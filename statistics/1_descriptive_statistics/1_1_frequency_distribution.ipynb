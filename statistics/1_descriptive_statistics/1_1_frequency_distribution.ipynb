{
 "cells": [
  {
   "cell_type": "code",
   "execution_count": 2,
   "metadata": {},
   "outputs": [],
   "source": [
    "import pandas as pd\n",
    "import numpy as np\n",
    "import matplotlib.pyplot as plt \n",
    "import seaborn as sns \n",
    "sns.set()"
   ]
  },
  {
   "cell_type": "markdown",
   "metadata": {
    "colab_type": "text",
    "id": "WvMflodMjQKe"
   },
   "source": [
    "# Frequency distribution\n",
    "\n",
    "In this EDA (Exploratory Data Analysis) I will go through the concept of frequency distribution in descriptive statistics, i. e., after understanding the shape of the data at hand I will start the investigation process to understand patterns and behaviors in the data.\n"
   ]
  },
  {
   "cell_type": "markdown",
   "metadata": {},
   "source": [
    "## What is the dataset being used?\n",
    "\n",
    "> The National Household Sample Survey - PNAD, carried out annually, was finished in 2016, with the release of information for 2015. Planned to produce results for Brazil, Major Regions, Federation Units and nine Metropolitan Regions (Belém, Fortaleza, Recife, Salvador, Belo Horizonte, Rio de Janeiro, São Paulo, Curitiba and Porto Alegre), it surveyed, on an ongoing basis, general characteristics of the population, education, labor, income and housing, and, according to the information needs for the country, having the household as its unit of survey.\n",
    "\n",
    "[Source](https://www.ibge.gov.br/en/statistics/social/population/18079-brazil-volume-pnad1.html?=&t=microdados)\n"
   ]
  },
  {
   "cell_type": "markdown",
   "metadata": {},
   "source": [
    "## Columns\n",
    "\n",
    "#### Income\n",
    "\n",
    "What the resident receives through their direct participation in the production process for people older than 10 years.\n",
    "\n",
    "#### Age\n",
    "\n",
    "The age of the resident counted in years.\n",
    "\n",
    "#### Height (fake elaboration)\n",
    "\n",
    "This column was not included in the original dataset it was created randomly following a normal distribution for learning purposes.\n",
    "\n",
    "#### State\n",
    "\n",
    "| Code | Description         |\n",
    "| ---- | ------------------- |\n",
    "| 11   | Rondônia            |\n",
    "| 12   | Acre                |\n",
    "| 13   | Amazonas            |\n",
    "| 14   | Roraima             |\n",
    "| 15   | Pará                |\n",
    "| 16   | Amapá               |\n",
    "| 17   | Tocantins           |\n",
    "| 21   | Maranhão            |\n",
    "| 22   | Piauí               |\n",
    "| 23   | Ceará               |\n",
    "| 24   | Rio Grande do Norte |\n",
    "| 25   | Paraíba             |\n",
    "| 26   | Pernambuco          |\n",
    "| 27   | Alagoas             |\n",
    "| 28   | Sergipe             |\n",
    "| 29   | Bahia               |\n",
    "| 31   | Minas Gerais        |\n",
    "| 32   | Espírito Santo      |\n",
    "| 33   | Rio de Janeiro      |\n",
    "| 35   | São Paulo           |\n",
    "| 41   | Paraná              |\n",
    "| 42   | Santa Catarina      |\n",
    "| 43   | Rio Grande do Sul   |\n",
    "| 50   | Mato Grosso do Sul  |\n",
    "| 51   | Mato Grosso         |\n",
    "| 52   | Goiás               |\n",
    "| 53   | Distrito Federal    |\n",
    "\n",
    "#### Gender\n",
    "\n",
    "| Code | Description |\n",
    "| ---- | ----------- |\n",
    "| 0    | Male        |\n",
    "| 1    | Female      |\n",
    "\n",
    "#### Years of study\n",
    "\n",
    "| Code | Description                  |\n",
    "| ---- | ---------------------------- |\n",
    "| 1    | No study or less than a year |\n",
    "| 2    | 1 year                       |\n",
    "| 3    | 2 years                      |\n",
    "| 4    | 3 years                      |\n",
    "| 5    | 4 years                      |\n",
    "| 6    | 5 years                      |\n",
    "| 7    | 6 years                      |\n",
    "| 8    | 7 years                      |\n",
    "| 9    | 8 years                      |\n",
    "| 10   | 9 years                      |\n",
    "| 11   | 10 years                     |\n",
    "| 12   | 11 years                     |\n",
    "| 13   | 12 years                     |\n",
    "| 14   | 13 years                     |\n",
    "| 15   | 14 years                     |\n",
    "| 16   | 15 years or more             |\n",
    "| 17   | N/A                          |\n",
    "\n",
    "#### Skin color\n",
    "\n",
    "| Code | Description |\n",
    "| ---- | ----------- |\n",
    "| 0    | Indígena    |\n",
    "| 2    | White       |\n",
    "| 4    | Black       |\n",
    "| 6    | Yellow      |\n",
    "| 8    | Parda       |\n",
    "| 9    | N/A         |\n",
    "\n",
    "<br>\n",
    "\n",
    "> In Brazil, Pardo (Portuguese pronunciation: [ˈpaʁdu]) is a race/colour category used by the Brazilian Institute of Geography and Statistics (IBGE) in Brazilian censuses. It is a Portuguese word that encompasses various shades of brown, but is usually translated as \"grayish-brown\". The other categories are branco (\"White\"), negro (\"Black\"), amarelo (\"yellow\", meaning East Asians), and indígena (\"indigene\" or \"indigenous person\", meaning Amerindians).\n"
   ]
  },
  {
   "cell_type": "code",
   "execution_count": 3,
   "metadata": {
    "colab": {},
    "colab_type": "code",
    "id": "8QgOpE-wjQKl"
   },
   "outputs": [
    {
     "data": {
      "text/html": [
       "<div>\n",
       "<style scoped>\n",
       "    .dataframe tbody tr th:only-of-type {\n",
       "        vertical-align: middle;\n",
       "    }\n",
       "\n",
       "    .dataframe tbody tr th {\n",
       "        vertical-align: top;\n",
       "    }\n",
       "\n",
       "    .dataframe thead th {\n",
       "        text-align: right;\n",
       "    }\n",
       "</style>\n",
       "<table border=\"1\" class=\"dataframe\">\n",
       "  <thead>\n",
       "    <tr style=\"text-align: right;\">\n",
       "      <th></th>\n",
       "      <th>State</th>\n",
       "      <th>Gender</th>\n",
       "      <th>Age</th>\n",
       "      <th>Skin color</th>\n",
       "      <th>Years of study</th>\n",
       "      <th>Income</th>\n",
       "      <th>Height</th>\n",
       "    </tr>\n",
       "  </thead>\n",
       "  <tbody>\n",
       "    <tr>\n",
       "      <th>0</th>\n",
       "      <td>11</td>\n",
       "      <td>0</td>\n",
       "      <td>23</td>\n",
       "      <td>8</td>\n",
       "      <td>12</td>\n",
       "      <td>800</td>\n",
       "      <td>1.603808</td>\n",
       "    </tr>\n",
       "    <tr>\n",
       "      <th>1</th>\n",
       "      <td>11</td>\n",
       "      <td>1</td>\n",
       "      <td>23</td>\n",
       "      <td>2</td>\n",
       "      <td>12</td>\n",
       "      <td>1150</td>\n",
       "      <td>1.739790</td>\n",
       "    </tr>\n",
       "    <tr>\n",
       "      <th>2</th>\n",
       "      <td>11</td>\n",
       "      <td>1</td>\n",
       "      <td>35</td>\n",
       "      <td>8</td>\n",
       "      <td>15</td>\n",
       "      <td>880</td>\n",
       "      <td>1.760444</td>\n",
       "    </tr>\n",
       "    <tr>\n",
       "      <th>3</th>\n",
       "      <td>11</td>\n",
       "      <td>0</td>\n",
       "      <td>46</td>\n",
       "      <td>2</td>\n",
       "      <td>6</td>\n",
       "      <td>3500</td>\n",
       "      <td>1.783158</td>\n",
       "    </tr>\n",
       "    <tr>\n",
       "      <th>4</th>\n",
       "      <td>11</td>\n",
       "      <td>1</td>\n",
       "      <td>47</td>\n",
       "      <td>8</td>\n",
       "      <td>9</td>\n",
       "      <td>150</td>\n",
       "      <td>1.690631</td>\n",
       "    </tr>\n",
       "    <tr>\n",
       "      <th>...</th>\n",
       "      <td>...</td>\n",
       "      <td>...</td>\n",
       "      <td>...</td>\n",
       "      <td>...</td>\n",
       "      <td>...</td>\n",
       "      <td>...</td>\n",
       "      <td>...</td>\n",
       "    </tr>\n",
       "    <tr>\n",
       "      <th>76835</th>\n",
       "      <td>53</td>\n",
       "      <td>1</td>\n",
       "      <td>46</td>\n",
       "      <td>2</td>\n",
       "      <td>11</td>\n",
       "      <td>812</td>\n",
       "      <td>1.687030</td>\n",
       "    </tr>\n",
       "    <tr>\n",
       "      <th>76836</th>\n",
       "      <td>53</td>\n",
       "      <td>0</td>\n",
       "      <td>30</td>\n",
       "      <td>4</td>\n",
       "      <td>7</td>\n",
       "      <td>1500</td>\n",
       "      <td>1.792934</td>\n",
       "    </tr>\n",
       "    <tr>\n",
       "      <th>76837</th>\n",
       "      <td>53</td>\n",
       "      <td>0</td>\n",
       "      <td>32</td>\n",
       "      <td>8</td>\n",
       "      <td>12</td>\n",
       "      <td>1300</td>\n",
       "      <td>1.830587</td>\n",
       "    </tr>\n",
       "    <tr>\n",
       "      <th>76838</th>\n",
       "      <td>53</td>\n",
       "      <td>0</td>\n",
       "      <td>57</td>\n",
       "      <td>8</td>\n",
       "      <td>4</td>\n",
       "      <td>1500</td>\n",
       "      <td>1.726344</td>\n",
       "    </tr>\n",
       "    <tr>\n",
       "      <th>76839</th>\n",
       "      <td>53</td>\n",
       "      <td>0</td>\n",
       "      <td>38</td>\n",
       "      <td>8</td>\n",
       "      <td>4</td>\n",
       "      <td>900</td>\n",
       "      <td>1.658305</td>\n",
       "    </tr>\n",
       "  </tbody>\n",
       "</table>\n",
       "<p>76840 rows × 7 columns</p>\n",
       "</div>"
      ],
      "text/plain": [
       "       State  Gender  Age  Skin color  Years of study  Income    Height\n",
       "0         11       0   23           8              12     800  1.603808\n",
       "1         11       1   23           2              12    1150  1.739790\n",
       "2         11       1   35           8              15     880  1.760444\n",
       "3         11       0   46           2               6    3500  1.783158\n",
       "4         11       1   47           8               9     150  1.690631\n",
       "...      ...     ...  ...         ...             ...     ...       ...\n",
       "76835     53       1   46           2              11     812  1.687030\n",
       "76836     53       0   30           4               7    1500  1.792934\n",
       "76837     53       0   32           8              12    1300  1.830587\n",
       "76838     53       0   57           8               4    1500  1.726344\n",
       "76839     53       0   38           8               4     900  1.658305\n",
       "\n",
       "[76840 rows x 7 columns]"
      ]
     },
     "execution_count": 3,
     "metadata": {},
     "output_type": "execute_result"
    }
   ],
   "source": [
    "data = pd.read_csv(\"./data/national_household_sample_survey.csv\")\n",
    "\n",
    "data"
   ]
  },
  {
   "cell_type": "markdown",
   "metadata": {},
   "source": [
    "## Types of variables\n",
    "\n",
    "### Measurable or quantitative\n",
    "\n",
    "We have questions. We can use statistics to understand them, possibly answer and make decisions. Data are collected and we base our investigation on data. We call one specific characteristic, number, quantity, etc. a **variable**. Our decisions involve variables that can be measured, we call them **measurable variables**. We can quantify them. These numbers can have an ordered relation, for example, we can compare if they are equal, greater or less than others. Measurable variables can be **discrete** or **continuous**.\n",
    "\n",
    "#### **Discrete**\n",
    "\n",
    "- Values are obtained by counting, e. g., the number of children, the times a machine fails, amount of people at a restaurant, etc.\n",
    "- Data are between two values. Up to infinity.\n",
    "- Data are numeric. Non-negative numbers.\n",
    "\n",
    "#### **Continuous**\n",
    "\n",
    "- Values are obtained by measuring, e. g., height, weight, time, etc.\n",
    "- Data are between two values. Up to infinity.\n",
    "- Numeric. Up to several decimal places\n",
    "\n",
    "### Categorical or qualitative\n",
    "\n",
    "Data can also exist in non-measurable ways. For example, which candidate you support, whether you are satisfied with a service or not, etc. We also might want to find if there are any relations between those variables. For example, are the supporters of candidate Y satisfied with a given service? We call variables that can't be measured **categorical variables**.\n",
    "\n",
    "If we can't measure how can we use such variables? We can count their frequencies in a way to measure them. for example the number of customers who support candidate Y, and the number of people satisfied with a given service, we can also look at a cross-tabulation counting: the number of customers satisfied with a given product who are supporters of candidate X.\n",
    "\n",
    "#### **Ordinal**\n",
    "\n",
    "When there is a sensible order for the data. for example: ratings, bug severity, etc.\n",
    "\n",
    "#### **Nominal**\n",
    "\n",
    "When ordering doesn't make sense we call them nomimal. for example: gender, city, etc.\n"
   ]
  },
  {
   "cell_type": "code",
   "execution_count": 4,
   "metadata": {},
   "outputs": [
    {
     "name": "stdout",
     "output_type": "stream",
     "text": [
      "[13, 14, 15, 16, 17, 18, 19, 20, 21, 22, 23, 24, 25, 26, 27, 28, 29, 30, 31, 32, 33, 34, 35, 36, 37, 38, 39, 40, 41, 42, 43, 44, 45, 46, 47, 48, 49, 50, 51, 52, 53, 54, 55, 56, 57, 58, 59, 60, 61, 62, 63, 64, 65, 66, 67, 68, 69, 70, 71, 72, 73, 74, 75, 76, 77, 78, 79, 80, 81, 82, 83, 84, 85, 86, 87, 88, 89, 90, 91, 92, 94, 95, 97, 99]\n"
     ]
    },
    {
     "data": {
      "text/html": [
       "<div>\n",
       "<style scoped>\n",
       "    .dataframe tbody tr th:only-of-type {\n",
       "        vertical-align: middle;\n",
       "    }\n",
       "\n",
       "    .dataframe tbody tr th {\n",
       "        vertical-align: top;\n",
       "    }\n",
       "\n",
       "    .dataframe thead th {\n",
       "        text-align: right;\n",
       "    }\n",
       "</style>\n",
       "<table border=\"1\" class=\"dataframe\">\n",
       "  <thead>\n",
       "    <tr style=\"text-align: right;\">\n",
       "      <th></th>\n",
       "      <th>Age</th>\n",
       "      <th>Income</th>\n",
       "    </tr>\n",
       "  </thead>\n",
       "  <tbody>\n",
       "    <tr>\n",
       "      <th>0</th>\n",
       "      <td>23</td>\n",
       "      <td>800</td>\n",
       "    </tr>\n",
       "    <tr>\n",
       "      <th>1</th>\n",
       "      <td>23</td>\n",
       "      <td>1150</td>\n",
       "    </tr>\n",
       "    <tr>\n",
       "      <th>2</th>\n",
       "      <td>35</td>\n",
       "      <td>880</td>\n",
       "    </tr>\n",
       "    <tr>\n",
       "      <th>3</th>\n",
       "      <td>46</td>\n",
       "      <td>3500</td>\n",
       "    </tr>\n",
       "    <tr>\n",
       "      <th>4</th>\n",
       "      <td>47</td>\n",
       "      <td>150</td>\n",
       "    </tr>\n",
       "  </tbody>\n",
       "</table>\n",
       "</div>"
      ],
      "text/plain": [
       "   Age  Income\n",
       "0   23     800\n",
       "1   23    1150\n",
       "2   35     880\n",
       "3   46    3500\n",
       "4   47     150"
      ]
     },
     "execution_count": 4,
     "metadata": {},
     "output_type": "execute_result"
    }
   ],
   "source": [
    "quantitative_discrete = data[[\"Age\", \"Income\"]]\n",
    "age_unique = sorted(quantitative_discrete[\"Age\"].unique())\n",
    "print(age_unique)\n",
    "quantitative_discrete.head()\n"
   ]
  },
  {
   "cell_type": "code",
   "execution_count": 5,
   "metadata": {},
   "outputs": [
    {
     "data": {
      "text/html": [
       "<div>\n",
       "<style scoped>\n",
       "    .dataframe tbody tr th:only-of-type {\n",
       "        vertical-align: middle;\n",
       "    }\n",
       "\n",
       "    .dataframe tbody tr th {\n",
       "        vertical-align: top;\n",
       "    }\n",
       "\n",
       "    .dataframe thead th {\n",
       "        text-align: right;\n",
       "    }\n",
       "</style>\n",
       "<table border=\"1\" class=\"dataframe\">\n",
       "  <thead>\n",
       "    <tr style=\"text-align: right;\">\n",
       "      <th></th>\n",
       "      <th>Height</th>\n",
       "    </tr>\n",
       "  </thead>\n",
       "  <tbody>\n",
       "    <tr>\n",
       "      <th>0</th>\n",
       "      <td>1.603808</td>\n",
       "    </tr>\n",
       "    <tr>\n",
       "      <th>1</th>\n",
       "      <td>1.739790</td>\n",
       "    </tr>\n",
       "    <tr>\n",
       "      <th>2</th>\n",
       "      <td>1.760444</td>\n",
       "    </tr>\n",
       "    <tr>\n",
       "      <th>3</th>\n",
       "      <td>1.783158</td>\n",
       "    </tr>\n",
       "    <tr>\n",
       "      <th>4</th>\n",
       "      <td>1.690631</td>\n",
       "    </tr>\n",
       "  </tbody>\n",
       "</table>\n",
       "</div>"
      ],
      "text/plain": [
       "     Height\n",
       "0  1.603808\n",
       "1  1.739790\n",
       "2  1.760444\n",
       "3  1.783158\n",
       "4  1.690631"
      ]
     },
     "execution_count": 5,
     "metadata": {},
     "output_type": "execute_result"
    }
   ],
   "source": [
    "quantitative_continuous = data[[\"Height\"]]\n",
    "quantitative_continuous.head()\n"
   ]
  },
  {
   "cell_type": "code",
   "execution_count": 6,
   "metadata": {},
   "outputs": [
    {
     "name": "stdout",
     "output_type": "stream",
     "text": [
      "[11, 12, 13, 14, 15, 16, 17, 21, 22, 23, 24, 25, 26, 27, 28, 29, 31, 32, 33, 35, 41, 42, 43, 50, 51, 52, 53]\n",
      "[0, 1]\n",
      "[0, 2, 4, 6, 8]\n"
     ]
    },
    {
     "data": {
      "text/html": [
       "<div>\n",
       "<style scoped>\n",
       "    .dataframe tbody tr th:only-of-type {\n",
       "        vertical-align: middle;\n",
       "    }\n",
       "\n",
       "    .dataframe tbody tr th {\n",
       "        vertical-align: top;\n",
       "    }\n",
       "\n",
       "    .dataframe thead th {\n",
       "        text-align: right;\n",
       "    }\n",
       "</style>\n",
       "<table border=\"1\" class=\"dataframe\">\n",
       "  <thead>\n",
       "    <tr style=\"text-align: right;\">\n",
       "      <th></th>\n",
       "      <th>State</th>\n",
       "      <th>Gender</th>\n",
       "      <th>Skin color</th>\n",
       "    </tr>\n",
       "  </thead>\n",
       "  <tbody>\n",
       "    <tr>\n",
       "      <th>0</th>\n",
       "      <td>11</td>\n",
       "      <td>0</td>\n",
       "      <td>8</td>\n",
       "    </tr>\n",
       "    <tr>\n",
       "      <th>1</th>\n",
       "      <td>11</td>\n",
       "      <td>1</td>\n",
       "      <td>2</td>\n",
       "    </tr>\n",
       "    <tr>\n",
       "      <th>2</th>\n",
       "      <td>11</td>\n",
       "      <td>1</td>\n",
       "      <td>8</td>\n",
       "    </tr>\n",
       "    <tr>\n",
       "      <th>3</th>\n",
       "      <td>11</td>\n",
       "      <td>0</td>\n",
       "      <td>2</td>\n",
       "    </tr>\n",
       "    <tr>\n",
       "      <th>4</th>\n",
       "      <td>11</td>\n",
       "      <td>1</td>\n",
       "      <td>8</td>\n",
       "    </tr>\n",
       "  </tbody>\n",
       "</table>\n",
       "</div>"
      ],
      "text/plain": [
       "   State  Gender  Skin color\n",
       "0     11       0           8\n",
       "1     11       1           2\n",
       "2     11       1           8\n",
       "3     11       0           2\n",
       "4     11       1           8"
      ]
     },
     "execution_count": 6,
     "metadata": {},
     "output_type": "execute_result"
    }
   ],
   "source": [
    "qualitative_nominal = data[[\"State\", \"Gender\", \"Skin color\"]]\n",
    "print(sorted(qualitative_nominal[\"State\"].unique()))\n",
    "print(sorted(qualitative_nominal[\"Gender\"].unique()))\n",
    "print(sorted(qualitative_nominal[\"Skin color\"].unique()))\n",
    "qualitative_nominal.head()\n"
   ]
  },
  {
   "cell_type": "code",
   "execution_count": 7,
   "metadata": {},
   "outputs": [
    {
     "name": "stdout",
     "output_type": "stream",
     "text": [
      "[1, 2, 3, 4, 5, 6, 7, 8, 9, 10, 11, 12, 13, 14, 15, 16, 17]\n"
     ]
    },
    {
     "data": {
      "text/html": [
       "<div>\n",
       "<style scoped>\n",
       "    .dataframe tbody tr th:only-of-type {\n",
       "        vertical-align: middle;\n",
       "    }\n",
       "\n",
       "    .dataframe tbody tr th {\n",
       "        vertical-align: top;\n",
       "    }\n",
       "\n",
       "    .dataframe thead th {\n",
       "        text-align: right;\n",
       "    }\n",
       "</style>\n",
       "<table border=\"1\" class=\"dataframe\">\n",
       "  <thead>\n",
       "    <tr style=\"text-align: right;\">\n",
       "      <th></th>\n",
       "      <th>Years of study</th>\n",
       "    </tr>\n",
       "  </thead>\n",
       "  <tbody>\n",
       "    <tr>\n",
       "      <th>0</th>\n",
       "      <td>12</td>\n",
       "    </tr>\n",
       "    <tr>\n",
       "      <th>1</th>\n",
       "      <td>12</td>\n",
       "    </tr>\n",
       "    <tr>\n",
       "      <th>2</th>\n",
       "      <td>15</td>\n",
       "    </tr>\n",
       "    <tr>\n",
       "      <th>3</th>\n",
       "      <td>6</td>\n",
       "    </tr>\n",
       "    <tr>\n",
       "      <th>4</th>\n",
       "      <td>9</td>\n",
       "    </tr>\n",
       "  </tbody>\n",
       "</table>\n",
       "</div>"
      ],
      "text/plain": [
       "   Years of study\n",
       "0              12\n",
       "1              12\n",
       "2              15\n",
       "3               6\n",
       "4               9"
      ]
     },
     "execution_count": 7,
     "metadata": {},
     "output_type": "execute_result"
    }
   ],
   "source": [
    "qualitative_ordinal = data[[\"Years of study\"]]\n",
    "print(sorted(qualitative_ordinal[\"Years of study\"].unique()))\n",
    "qualitative_ordinal.head()\n"
   ]
  },
  {
   "cell_type": "markdown",
   "metadata": {},
   "source": [
    "## Understanding how the data are distributed\n",
    "\n",
    "What I mean by that is to understand the behavior of the data. I want to answer questions like:\n",
    "\n",
    "- Around what values are most of the data concentrated?\n",
    "- What's the percentage of a certain category?\n",
    "\n",
    "Understanding the distribution is for me to visualize patterns that will enable me to tell stories with the data. We move from an understanding of the shape of the data to start spotting the meaning in the data. What stories do the data we have at hand are telling?\n"
   ]
  },
  {
   "cell_type": "markdown",
   "metadata": {},
   "source": [
    "### **Qualitative variables**\n"
   ]
  },
  {
   "cell_type": "code",
   "execution_count": 8,
   "metadata": {
    "colab": {
     "base_uri": "https://localhost:8080/",
     "height": 71
    },
    "colab_type": "code",
    "id": "cA4gUboZjQLB",
    "outputId": "960bc58d-62e2-4ca2-bb6d-df888813cb34"
   },
   "outputs": [
    {
     "name": "stdout",
     "output_type": "stream",
     "text": [
      "In this dataset there are 76840 records.\n",
      "From which 53250 are Male and 23590 are Female.\n",
      "That is, 69.3% is Male and 30.7% is Female.\n",
      " \n",
      "0    53250\n",
      "1    23590\n",
      "Name: Gender, dtype: int64\n",
      "0    0.692998\n",
      "1    0.307002\n",
      "Name: Gender, dtype: float64\n",
      "0    69.299844\n",
      "1    30.700156\n",
      "Name: Gender, dtype: float64\n"
     ]
    }
   ],
   "source": [
    "gender_count = data[\"Gender\"].value_counts()\n",
    "gender_count_normalized = data[\"Gender\"].value_counts(normalize=True)\n",
    "gender_count_percentage = gender_count_normalized * 100\n",
    "gender_mapping = {0: \"Male\", 1: \"Female\"}\n",
    "\n",
    "print(\n",
    "    f\"\"\"In this dataset there are {data.shape[0]} records.\n",
    "From which {gender_count[0]} are {gender_mapping[0]} and {gender_count[1]} are {gender_mapping[1]}.\n",
    "That is, {gender_count_percentage[0].round(2)}% is {gender_mapping[0]} and {gender_count_percentage[1].round(2)}% is {gender_mapping[1]}.\n",
    " \"\"\"\n",
    ")\n",
    "print(gender_count)\n",
    "print(gender_count_normalized)\n",
    "print(gender_count_percentage)\n"
   ]
  },
  {
   "cell_type": "code",
   "execution_count": 9,
   "metadata": {
    "colab": {
     "base_uri": "https://localhost:8080/",
     "height": 71
    },
    "colab_type": "code",
    "id": "iy4-ijknjQLD",
    "outputId": "609cb9bf-45b6-4d6a-ab57-f7eee496a41b"
   },
   "outputs": [
    {
     "data": {
      "text/html": [
       "<div>\n",
       "<style scoped>\n",
       "    .dataframe tbody tr th:only-of-type {\n",
       "        vertical-align: middle;\n",
       "    }\n",
       "\n",
       "    .dataframe tbody tr th {\n",
       "        vertical-align: top;\n",
       "    }\n",
       "\n",
       "    .dataframe thead th {\n",
       "        text-align: right;\n",
       "    }\n",
       "</style>\n",
       "<table border=\"1\" class=\"dataframe\">\n",
       "  <thead>\n",
       "    <tr style=\"text-align: right;\">\n",
       "      <th>Gender</th>\n",
       "      <th>Count</th>\n",
       "      <th>Count normalized</th>\n",
       "      <th>Percentage</th>\n",
       "    </tr>\n",
       "  </thead>\n",
       "  <tbody>\n",
       "    <tr>\n",
       "      <th>Male</th>\n",
       "      <td>53250</td>\n",
       "      <td>0.692998</td>\n",
       "      <td>69.299844</td>\n",
       "    </tr>\n",
       "    <tr>\n",
       "      <th>Female</th>\n",
       "      <td>23590</td>\n",
       "      <td>0.307002</td>\n",
       "      <td>30.700156</td>\n",
       "    </tr>\n",
       "  </tbody>\n",
       "</table>\n",
       "</div>"
      ],
      "text/plain": [
       "Gender  Count  Count normalized  Percentage\n",
       "Male    53250          0.692998   69.299844\n",
       "Female  23590          0.307002   30.700156"
      ]
     },
     "execution_count": 9,
     "metadata": {},
     "output_type": "execute_result"
    }
   ],
   "source": [
    "gender_frequency_count_df = pd.DataFrame(\n",
    "    {\n",
    "        \"Count\": gender_count,\n",
    "        \"Count normalized\": gender_count_normalized,\n",
    "        \"Percentage\": gender_count_percentage,\n",
    "    }\n",
    ")\n",
    "gender_frequency_count_df = gender_frequency_count_df.rename(index=gender_mapping).rename_axis(\"Gender\", axis=1)\n",
    "gender_frequency_count_df\n"
   ]
  },
  {
   "cell_type": "code",
   "execution_count": 10,
   "metadata": {
    "colab": {},
    "colab_type": "code",
    "id": "qfkiLcFijQLG"
   },
   "outputs": [
    {
     "name": "stdout",
     "output_type": "stream",
     "text": [
      "In this dataset there are 76840 records.\n",
      "35925, i. e., 46.753% have the skin color Parda\n",
      "31815, i. e., 41.4042% have the skin color White\n",
      "8391, i. e., 10.9201% have the skin color Black\n",
      "357, i. e., 0.4646% have the skin color Indígena\n",
      "352, i. e., 0.4581% have the skin color Yellow\n",
      "8    35925\n",
      "2    31815\n",
      "4     8391\n",
      "0      357\n",
      "6      352\n",
      "Name: Skin color, dtype: int64\n",
      "8    0.467530\n",
      "2    0.414042\n",
      "4    0.109201\n",
      "0    0.004646\n",
      "6    0.004581\n",
      "Name: Skin color, dtype: float64\n",
      "8    46.752993\n",
      "2    41.404217\n",
      "4    10.920094\n",
      "0     0.464602\n",
      "6     0.458095\n",
      "Name: Skin color, dtype: float64\n"
     ]
    }
   ],
   "source": [
    "skin_color_mapping = {\n",
    "    0: \"Indígena\",\n",
    "    2: \"White\",\n",
    "    4: \"Black\",\n",
    "    6: \"Yellow\",\n",
    "    8: \"Parda\",\n",
    "    9: \"N/A\",\n",
    "}\n",
    "\n",
    "skin_color_count = data[\"Skin color\"].value_counts()\n",
    "skin_color_count_normalized = data[\"Skin color\"].value_counts(normalize=True)\n",
    "skin_color_count_percentage = skin_color_count_normalized * 100\n",
    "\n",
    "print(f\"In this dataset there are {data.shape[0]} records.\")\n",
    "\n",
    "for (index, count, percentage) in zip(\n",
    "    skin_color_count.index, skin_color_count, skin_color_count_percentage\n",
    "):\n",
    "    print(f\"{count}, i. e., {round(percentage, 4)}% have the skin color {skin_color_mapping[index]}\")\n",
    "\n",
    "\n",
    "\n",
    "print(skin_color_count)\n",
    "print(skin_color_count_normalized)\n",
    "print(skin_color_count_percentage)\n"
   ]
  },
  {
   "cell_type": "code",
   "execution_count": 11,
   "metadata": {
    "colab": {},
    "colab_type": "code",
    "id": "t4uFMt6fjQLI"
   },
   "outputs": [
    {
     "data": {
      "text/html": [
       "<div>\n",
       "<style scoped>\n",
       "    .dataframe tbody tr th:only-of-type {\n",
       "        vertical-align: middle;\n",
       "    }\n",
       "\n",
       "    .dataframe tbody tr th {\n",
       "        vertical-align: top;\n",
       "    }\n",
       "\n",
       "    .dataframe thead th {\n",
       "        text-align: right;\n",
       "    }\n",
       "</style>\n",
       "<table border=\"1\" class=\"dataframe\">\n",
       "  <thead>\n",
       "    <tr style=\"text-align: right;\">\n",
       "      <th>Skin color</th>\n",
       "      <th>Count</th>\n",
       "      <th>Count normalized</th>\n",
       "      <th>Percentage</th>\n",
       "    </tr>\n",
       "  </thead>\n",
       "  <tbody>\n",
       "    <tr>\n",
       "      <th>Parda</th>\n",
       "      <td>35925</td>\n",
       "      <td>0.467530</td>\n",
       "      <td>46.752993</td>\n",
       "    </tr>\n",
       "    <tr>\n",
       "      <th>White</th>\n",
       "      <td>31815</td>\n",
       "      <td>0.414042</td>\n",
       "      <td>41.404217</td>\n",
       "    </tr>\n",
       "    <tr>\n",
       "      <th>Black</th>\n",
       "      <td>8391</td>\n",
       "      <td>0.109201</td>\n",
       "      <td>10.920094</td>\n",
       "    </tr>\n",
       "    <tr>\n",
       "      <th>Indígena</th>\n",
       "      <td>357</td>\n",
       "      <td>0.004646</td>\n",
       "      <td>0.464602</td>\n",
       "    </tr>\n",
       "    <tr>\n",
       "      <th>Yellow</th>\n",
       "      <td>352</td>\n",
       "      <td>0.004581</td>\n",
       "      <td>0.458095</td>\n",
       "    </tr>\n",
       "  </tbody>\n",
       "</table>\n",
       "</div>"
      ],
      "text/plain": [
       "Skin color  Count  Count normalized  Percentage\n",
       "Parda       35925          0.467530   46.752993\n",
       "White       31815          0.414042   41.404217\n",
       "Black        8391          0.109201   10.920094\n",
       "Indígena      357          0.004646    0.464602\n",
       "Yellow        352          0.004581    0.458095"
      ]
     },
     "execution_count": 11,
     "metadata": {},
     "output_type": "execute_result"
    }
   ],
   "source": [
    "skin_color_frequency_count_df = pd.DataFrame(\n",
    "    {\n",
    "        \"Count\": skin_color_count,\n",
    "        \"Count normalized\": skin_color_count_normalized,\n",
    "        \"Percentage\": skin_color_count_percentage,\n",
    "    }\n",
    ")\n",
    "skin_color_frequency_count_df = skin_color_frequency_count_df.rename(index=skin_color_mapping).rename_axis(\"Skin color\", axis=1)\n",
    "skin_color_frequency_count_df"
   ]
  },
  {
   "cell_type": "markdown",
   "metadata": {},
   "source": [
    "#### Cross-tabulation\n",
    "\n",
    "Aka as **Crosstab** or **Contingency table** is a table that shows the relationship between two or more qualitative variables. Its goal is to analyze categorical data."
   ]
  },
  {
   "cell_type": "code",
   "execution_count": 12,
   "metadata": {
    "colab": {},
    "colab_type": "code",
    "id": "zUGfju86jQLM"
   },
   "outputs": [
    {
     "data": {
      "text/html": [
       "<div>\n",
       "<style scoped>\n",
       "    .dataframe tbody tr th:only-of-type {\n",
       "        vertical-align: middle;\n",
       "    }\n",
       "\n",
       "    .dataframe tbody tr th {\n",
       "        vertical-align: top;\n",
       "    }\n",
       "\n",
       "    .dataframe thead th {\n",
       "        text-align: right;\n",
       "    }\n",
       "</style>\n",
       "<table border=\"1\" class=\"dataframe\">\n",
       "  <thead>\n",
       "    <tr style=\"text-align: right;\">\n",
       "      <th>Skin color</th>\n",
       "      <th>Indígena</th>\n",
       "      <th>White</th>\n",
       "      <th>Black</th>\n",
       "      <th>Yellow</th>\n",
       "      <th>Parda</th>\n",
       "    </tr>\n",
       "    <tr>\n",
       "      <th>Gender</th>\n",
       "      <th></th>\n",
       "      <th></th>\n",
       "      <th></th>\n",
       "      <th></th>\n",
       "      <th></th>\n",
       "    </tr>\n",
       "  </thead>\n",
       "  <tbody>\n",
       "    <tr>\n",
       "      <th>Male</th>\n",
       "      <td>256</td>\n",
       "      <td>22194</td>\n",
       "      <td>5502</td>\n",
       "      <td>235</td>\n",
       "      <td>25063</td>\n",
       "    </tr>\n",
       "    <tr>\n",
       "      <th>Female</th>\n",
       "      <td>101</td>\n",
       "      <td>9621</td>\n",
       "      <td>2889</td>\n",
       "      <td>117</td>\n",
       "      <td>10862</td>\n",
       "    </tr>\n",
       "  </tbody>\n",
       "</table>\n",
       "</div>"
      ],
      "text/plain": [
       "Skin color  Indígena  White  Black  Yellow  Parda\n",
       "Gender                                           \n",
       "Male             256  22194   5502     235  25063\n",
       "Female           101   9621   2889     117  10862"
      ]
     },
     "execution_count": 12,
     "metadata": {},
     "output_type": "execute_result"
    }
   ],
   "source": [
    "crosstab_gender_skincolor = pd.crosstab(data[\"Gender\"], data[\"Skin color\"])\n",
    "crosstab_gender_skincolor = crosstab_gender_skincolor.rename(\n",
    "    index=gender_mapping, columns=skin_color_mapping\n",
    ")\n",
    "crosstab_gender_skincolor\n"
   ]
  },
  {
   "cell_type": "code",
   "execution_count": 13,
   "metadata": {
    "colab": {
     "base_uri": "https://localhost:8080/",
     "height": 111
    },
    "colab_type": "code",
    "id": "kPOYfijijQLO",
    "outputId": "4af843fe-2772-4fc7-a04c-6e50d2384b58"
   },
   "outputs": [
    {
     "data": {
      "text/html": [
       "<div>\n",
       "<style scoped>\n",
       "    .dataframe tbody tr th:only-of-type {\n",
       "        vertical-align: middle;\n",
       "    }\n",
       "\n",
       "    .dataframe tbody tr th {\n",
       "        vertical-align: top;\n",
       "    }\n",
       "\n",
       "    .dataframe thead th {\n",
       "        text-align: right;\n",
       "    }\n",
       "</style>\n",
       "<table border=\"1\" class=\"dataframe\">\n",
       "  <thead>\n",
       "    <tr style=\"text-align: right;\">\n",
       "      <th>Skin color</th>\n",
       "      <th>Indígena</th>\n",
       "      <th>White</th>\n",
       "      <th>Black</th>\n",
       "      <th>Yellow</th>\n",
       "      <th>Parda</th>\n",
       "    </tr>\n",
       "    <tr>\n",
       "      <th>Gender</th>\n",
       "      <th></th>\n",
       "      <th></th>\n",
       "      <th></th>\n",
       "      <th></th>\n",
       "      <th></th>\n",
       "    </tr>\n",
       "  </thead>\n",
       "  <tbody>\n",
       "    <tr>\n",
       "      <th>Male</th>\n",
       "      <td>0.333160</td>\n",
       "      <td>28.883394</td>\n",
       "      <td>7.160333</td>\n",
       "      <td>0.305830</td>\n",
       "      <td>32.617126</td>\n",
       "    </tr>\n",
       "    <tr>\n",
       "      <th>Female</th>\n",
       "      <td>0.131442</td>\n",
       "      <td>12.520822</td>\n",
       "      <td>3.759761</td>\n",
       "      <td>0.152264</td>\n",
       "      <td>14.135867</td>\n",
       "    </tr>\n",
       "  </tbody>\n",
       "</table>\n",
       "</div>"
      ],
      "text/plain": [
       "Skin color  Indígena      White     Black    Yellow      Parda\n",
       "Gender                                                        \n",
       "Male        0.333160  28.883394  7.160333  0.305830  32.617126\n",
       "Female      0.131442  12.520822  3.759761  0.152264  14.135867"
      ]
     },
     "execution_count": 13,
     "metadata": {},
     "output_type": "execute_result"
    }
   ],
   "source": [
    "crosstab_gender_skincolor_percentage = pd.crosstab(data[\"Gender\"], data[\"Skin color\"], normalize=True) * 100\n",
    "crosstab_gender_skincolor_percentage = crosstab_gender_skincolor_percentage.rename(index=gender_mapping, columns=skin_color_mapping)\n",
    "crosstab_gender_skincolor_percentage"
   ]
  },
  {
   "cell_type": "code",
   "execution_count": 14,
   "metadata": {
    "colab": {},
    "colab_type": "code",
    "id": "tMS-VSk3jQLQ"
   },
   "outputs": [
    {
     "name": "stdout",
     "output_type": "stream",
     "text": [
      "32.62% of records are from Male with skin color Parda.\n",
      "3.76% of records are from Female with skin color Black.\n"
     ]
    }
   ],
   "source": [
    "print(\n",
    "    f'{round(crosstab_gender_skincolor_percentage[\"Parda\"][\"Male\"], 2)}% of records are from Male with skin color Parda.'\n",
    ")\n",
    "\n",
    "print(\n",
    "    f'{round(crosstab_gender_skincolor_percentage[\"Black\"][\"Female\"], 2)}% of records are from Female with skin color Black.'\n",
    ")"
   ]
  },
  {
   "cell_type": "code",
   "execution_count": 15,
   "metadata": {},
   "outputs": [
    {
     "data": {
      "text/html": [
       "<div>\n",
       "<style scoped>\n",
       "    .dataframe tbody tr th:only-of-type {\n",
       "        vertical-align: middle;\n",
       "    }\n",
       "\n",
       "    .dataframe tbody tr th {\n",
       "        vertical-align: top;\n",
       "    }\n",
       "\n",
       "    .dataframe thead th {\n",
       "        text-align: right;\n",
       "    }\n",
       "</style>\n",
       "<table border=\"1\" class=\"dataframe\">\n",
       "  <thead>\n",
       "    <tr style=\"text-align: right;\">\n",
       "      <th>Skin color</th>\n",
       "      <th>Indígena</th>\n",
       "      <th>White</th>\n",
       "      <th>Black</th>\n",
       "      <th>Yellow</th>\n",
       "      <th>Parda</th>\n",
       "    </tr>\n",
       "    <tr>\n",
       "      <th>Gender</th>\n",
       "      <th></th>\n",
       "      <th></th>\n",
       "      <th></th>\n",
       "      <th></th>\n",
       "      <th></th>\n",
       "    </tr>\n",
       "  </thead>\n",
       "  <tbody>\n",
       "    <tr>\n",
       "      <th>Male</th>\n",
       "      <td>1081.710938</td>\n",
       "      <td>2925.744435</td>\n",
       "      <td>1603.861687</td>\n",
       "      <td>4758.251064</td>\n",
       "      <td>1659.577425</td>\n",
       "    </tr>\n",
       "    <tr>\n",
       "      <th>Female</th>\n",
       "      <td>2464.386139</td>\n",
       "      <td>2109.866750</td>\n",
       "      <td>1134.596400</td>\n",
       "      <td>3027.341880</td>\n",
       "      <td>1176.758516</td>\n",
       "    </tr>\n",
       "  </tbody>\n",
       "</table>\n",
       "</div>"
      ],
      "text/plain": [
       "Skin color     Indígena        White        Black       Yellow        Parda\n",
       "Gender                                                                     \n",
       "Male        1081.710938  2925.744435  1603.861687  4758.251064  1659.577425\n",
       "Female      2464.386139  2109.866750  1134.596400  3027.341880  1176.758516"
      ]
     },
     "execution_count": 15,
     "metadata": {},
     "output_type": "execute_result"
    }
   ],
   "source": [
    "crosstab_gender_skincolor_income = pd.crosstab(data[\"Gender\"], data[\"Skin color\"], aggfunc=\"mean\", values=data[\"Income\"])\n",
    "crosstab_gender_skincolor_income = crosstab_gender_skincolor_income.rename(index=gender_mapping, columns=skin_color_mapping)\n",
    "crosstab_gender_skincolor_income"
   ]
  },
  {
   "cell_type": "code",
   "execution_count": 16,
   "metadata": {},
   "outputs": [
    {
     "name": "stdout",
     "output_type": "stream",
     "text": [
      "The average salary of a Male with skin color White is 2925.744435433\n",
      "The average salary of a Female with skin color Black is 1134.5964001384561\n",
      "A female with skin color Black earns 61.22% less than a Male with skin color white on average.\n",
      "A female earns 17.59% less than a Male on average.\n"
     ]
    }
   ],
   "source": [
    "print(\n",
    "    f'The average salary of a Male with skin color White is {crosstab_gender_skincolor_income[\"White\"][\"Male\"]}'\n",
    ")\n",
    "\n",
    "print(\n",
    "    f'The average salary of a Female with skin color Black is {crosstab_gender_skincolor_income[\"Black\"][\"Female\"]}'\n",
    ")\n",
    "\n",
    "difference_income_black_female_white_male = 1 - crosstab_gender_skincolor_income[\"Black\"][\"Female\"] / crosstab_gender_skincolor_income[\"White\"][\"Male\"]\n",
    "\n",
    "print(\n",
    "    f'A female with skin color Black earns {round(difference_income_black_female_white_male * 100, 2)}% less than a Male with skin color white on average.'\n",
    ")\n",
    "\n",
    "difference_income_male_female = 1 - crosstab_gender_skincolor_income.loc[\"Female\"].sum() / crosstab_gender_skincolor_income.loc[\"Male\"].sum()\n",
    "\n",
    "print(\n",
    "    f'A female earns {round(difference_income_male_female * 100, 2)}% less than a Male on average.'\n",
    ")"
   ]
  },
  {
   "cell_type": "markdown",
   "metadata": {},
   "source": [
    "### **Quantitative variables**\n",
    "\n",
    "These variables are not categorized by nature. They are numbers that are located within a range, but other than that it's up to the data analyst what classes make sense. The minimum wage in Brazil in 2015 was BRL 788,00.\n",
    "\n",
    "The market classifies the social classes bases on a household's montlhly income as follows:\n",
    "\n",
    "- Class A: above BRL 15.760\n",
    "- Class B: above BRL 7.880\n",
    "- Class C: above BRL 3.152\n",
    "- Class D: above BRL 1.576\n",
    "- Class E: below BRL 1.576\n",
    "\n",
    "[Source](https://thebrazilbusiness.com/article/social-classes-in-brazil-1453802521)"
   ]
  },
  {
   "cell_type": "code",
   "execution_count": 17,
   "metadata": {
    "colab": {
     "base_uri": "https://localhost:8080/",
     "height": 35
    },
    "colab_type": "code",
    "id": "Z08790GUjQLc",
    "outputId": "4a7bafb3-8440-42ee-fc60-a29080527059"
   },
   "outputs": [
    {
     "data": {
      "text/plain": [
       "(0, 200000)"
      ]
     },
     "execution_count": 17,
     "metadata": {},
     "output_type": "execute_result"
    }
   ],
   "source": [
    "min_income, max_income = data[\"Income\"].min(), data[\"Income\"].max()\n",
    "min_income, max_income"
   ]
  },
  {
   "cell_type": "code",
   "execution_count": 18,
   "metadata": {
    "colab": {
     "base_uri": "https://localhost:8080/",
     "height": 35
    },
    "colab_type": "code",
    "id": "5q2V5-0FjQLe",
    "outputId": "4d3c65eb-f1b0-454d-eb93-09c82314e311"
   },
   "outputs": [
    {
     "data": {
      "text/plain": [
       "([0, 1576, 3152, 7880, 15760, 200000], ['E', 'D', 'C', 'B', 'A'])"
      ]
     },
     "execution_count": 18,
     "metadata": {},
     "output_type": "execute_result"
    }
   ],
   "source": [
    "classes_boundaries = [min_income, 1576, 3152, 7880, 15760, max_income]\n",
    "classes_labels = list(\"ABCDE\")\n",
    "classes_labels.reverse()\n",
    "classes_boundaries, classes_labels\n"
   ]
  },
  {
   "cell_type": "code",
   "execution_count": 19,
   "metadata": {
    "colab": {},
    "colab_type": "code",
    "id": "Qt5F5w2UjQLg"
   },
   "outputs": [
    {
     "data": {
      "text/plain": [
       "E    49755\n",
       "D    16700\n",
       "C     7599\n",
       "B     2178\n",
       "A      608\n",
       "Name: Income, dtype: int64"
      ]
     },
     "execution_count": 19,
     "metadata": {},
     "output_type": "execute_result"
    }
   ],
   "source": [
    "classes_frequency_count = pd.cut(\n",
    "    x=data[\"Income\"],\n",
    "    bins=classes_boundaries,\n",
    "    labels=classes_labels,\n",
    "    include_lowest=True,\n",
    ").value_counts()\n",
    "\n",
    "classes_frequency_count\n"
   ]
  },
  {
   "cell_type": "code",
   "execution_count": 20,
   "metadata": {},
   "outputs": [
    {
     "data": {
      "text/html": [
       "<div>\n",
       "<style scoped>\n",
       "    .dataframe tbody tr th:only-of-type {\n",
       "        vertical-align: middle;\n",
       "    }\n",
       "\n",
       "    .dataframe tbody tr th {\n",
       "        vertical-align: top;\n",
       "    }\n",
       "\n",
       "    .dataframe thead th {\n",
       "        text-align: right;\n",
       "    }\n",
       "</style>\n",
       "<table border=\"1\" class=\"dataframe\">\n",
       "  <thead>\n",
       "    <tr style=\"text-align: right;\">\n",
       "      <th></th>\n",
       "      <th>Count</th>\n",
       "      <th>Percentage</th>\n",
       "    </tr>\n",
       "  </thead>\n",
       "  <tbody>\n",
       "    <tr>\n",
       "      <th>A</th>\n",
       "      <td>608</td>\n",
       "      <td>0.791255</td>\n",
       "    </tr>\n",
       "    <tr>\n",
       "      <th>B</th>\n",
       "      <td>2178</td>\n",
       "      <td>2.834461</td>\n",
       "    </tr>\n",
       "    <tr>\n",
       "      <th>C</th>\n",
       "      <td>7599</td>\n",
       "      <td>9.889381</td>\n",
       "    </tr>\n",
       "    <tr>\n",
       "      <th>D</th>\n",
       "      <td>16700</td>\n",
       "      <td>21.733472</td>\n",
       "    </tr>\n",
       "    <tr>\n",
       "      <th>E</th>\n",
       "      <td>49755</td>\n",
       "      <td>64.751432</td>\n",
       "    </tr>\n",
       "  </tbody>\n",
       "</table>\n",
       "</div>"
      ],
      "text/plain": [
       "   Count  Percentage\n",
       "A    608    0.791255\n",
       "B   2178    2.834461\n",
       "C   7599    9.889381\n",
       "D  16700   21.733472\n",
       "E  49755   64.751432"
      ]
     },
     "execution_count": 20,
     "metadata": {},
     "output_type": "execute_result"
    }
   ],
   "source": [
    "classes_frequency_count_df = pd.DataFrame(\n",
    "    {\n",
    "        \"Count\": classes_frequency_count,\n",
    "        \"Percentage\": (classes_frequency_count / data.shape[0]) * 100,\n",
    "    }\n",
    ")\n",
    "# skin_color_frequency_count_df = skin_color_frequency_count_df.rename(index=skin_color_mapping).rename_axis(\"Skin color\", axis=1)\n",
    "classes_frequency_count_df.sort_index(ascending=False)\n"
   ]
  },
  {
   "cell_type": "markdown",
   "metadata": {},
   "source": [
    "In this case, we had the class boundaries predefined for 5 classes. If we don't know the class boundaries but want to split the data into classes, what is the number of classes we can split the data into?\n",
    "\n",
    "Sturges rule is a rule for determining the desirable number of groups into which a distribution of observations should be classified:\n",
    "\n",
    "# $$ \\large k = 1 + 3.33 log_{10} n $$\n",
    "\n",
    "where:\n",
    "- $ n $ is how many records are present in the dataset"
   ]
  },
  {
   "cell_type": "code",
   "execution_count": 24,
   "metadata": {},
   "outputs": [
    {
     "name": "stdout",
     "output_type": "stream",
     "text": [
      "17\n"
     ]
    },
    {
     "data": {
      "text/plain": [
       "(-200.001, 11764.706]       75594\n",
       "(11764.706, 23529.412]       1022\n",
       "(23529.412, 35294.118]        169\n",
       "(35294.118, 47058.824]         19\n",
       "(47058.824, 58823.529]         16\n",
       "(58823.529, 70588.235]          5\n",
       "(70588.235, 82352.941]          4\n",
       "(82352.941, 94117.647]          1\n",
       "(94117.647, 105882.353]         6\n",
       "(105882.353, 117647.059]        0\n",
       "(117647.059, 129411.765]        1\n",
       "(129411.765, 141176.471]        0\n",
       "(141176.471, 152941.176]        0\n",
       "(152941.176, 164705.882]        0\n",
       "(164705.882, 176470.588]        0\n",
       "(176470.588, 188235.294]        0\n",
       "(188235.294, 200000.0]          3\n",
       "Name: Income, dtype: int64"
      ]
     },
     "execution_count": 24,
     "metadata": {},
     "output_type": "execute_result"
    }
   ],
   "source": [
    "k = 1 + 3.33 * np.log10(data.shape[0])\n",
    "k = int(k.round())\n",
    "print(k)\n",
    "\n",
    "income_frequency_sturges_rule = pd.value_counts(\n",
    "    pd.cut(x=data[\"Income\"], bins=k, include_lowest=True), sort=False\n",
    ")\n",
    "income_frequency_sturges_rule\n"
   ]
  },
  {
   "cell_type": "markdown",
   "metadata": {},
   "source": [
    "### Histogram\n",
    "\n",
    "A histogram is a way to visualize what I did so far but stored in a Pandas DataFrame.\n",
    "\n",
    "The basic rules are:\n",
    "\n",
    "- Order your data in increasing order\n",
    "- Organize it into bins or class intervals\n",
    "- Count each data point that falls into a specific bin, i. e., the frequency\n",
    "- How many bins? As a rule of thumb, 6 or 7 bins should be enough, but it also depends on your data. We want to visualize how the data is distributed. Too many will dilute, and too few will concentrate"
   ]
  },
  {
   "cell_type": "code",
   "execution_count": 22,
   "metadata": {},
   "outputs": [
    {
     "data": {
      "image/png": "[encoded data removed]",
      "text/plain": [
       "<Figure size 864x576 with 1 Axes>"
      ]
     },
     "metadata": {
      "needs_background": "light"
     },
     "output_type": "display_data"
    }
   ],
   "source": [
    "fix, ax = plt.subplots(1,1, figsize=(12, 8));\n",
    "ax.set_title(\"Histogram: Frequency distribution for the Height variable\", fontsize=16);\n",
    "ax.set_xlabel(\"Height\", fontsize=16);\n",
    "sns.histplot(data[\"Height\"], ax=ax, bins=k, kde=True);"
   ]
  },
  {
   "cell_type": "markdown",
   "metadata": {},
   "source": [
    "### 💡 What KDE means?\n",
    "\n",
    "KDE stands for Kernel Density estimation and it's a [kernel smoothing](https://en.wikipedia.org/wiki/Kernel_smoother) (a statistical estimation technique) used to estimate the probability density function of a random variable. It doesn't change its shape based on the number of bins since it's an estimation based on the whole data.\n",
    "\n",
    "For more info: https://en.wikipedia.org/wiki/Kernel_density_estimation"
   ]
  },
  {
   "cell_type": "markdown",
   "metadata": {},
   "source": [
    "## More resources\n",
    "\n",
    "I created two decks summarising what I cover in this Notebooks. It's a gentle introduction to descriptive statistics and some techniques for data visualization.\n",
    "\n",
    "https://pitch.com/public/537843e4-cb9e-494a-ac20-23082c6a37e0\n",
    "\n",
    "https://pitch.com/public/bb38cd6c-c29f-4ff4-8f1f-9becfa5c862c\n",
    "\n",
    "<iframe src=\"https://pitch.com/embed/537843e4-cb9e-494a-ac20-23082c6a37e0\" allow=\"fullscreen\" allowfullscreen=\"\" width=\"560\" height=\"368\" style=\"border:0\"></iframe>\n",
    "\n",
    "<iframe src=\"https://pitch.com/embed/bb38cd6c-c29f-4ff4-8f1f-9becfa5c862c\" allow=\"fullscreen\" allowfullscreen=\"\" width=\"560\" height=\"368\" style=\"border:0\"></iframe>"
   ]
  },
  {
   "cell_type": "markdown",
   "metadata": {},
   "source": []
  }
 ],
 "metadata": {
  "colab": {
   "name": "Curso_de_Estatística_Parte_1.ipynb",
   "provenance": [],
   "toc_visible": true,
   "version": "0.3.2"
  },
  "kernelspec": {
   "display_name": "Python 3.9.12 ('base')",
   "language": "python",
   "name": "python3"
  },
  "language_info": {
   "codemirror_mode": {
    "name": "ipython",
    "version": 3
   },
   "file_extension": ".py",
   "mimetype": "text/x-python",
   "name": "python",
   "nbconvert_exporter": "python",
   "pygments_lexer": "ipython3",
   "version": "3.9.12"
  },
  "vscode": {
   "interpreter": {
    "hash": "7d7799eccdb3ea8e451c2948250ed2a26e30808e21a34f392c0240d03d9f38c6"
   }
  }
 },
 "nbformat": 4,
 "nbformat_minor": 1
}
