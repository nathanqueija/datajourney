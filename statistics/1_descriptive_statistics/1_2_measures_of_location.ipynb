{
 "cells": [
  {
   "cell_type": "code",
   "execution_count": 1,
   "metadata": {},
   "outputs": [],
   "source": [
    "import pandas as pd\n",
    "import numpy as np\n",
    "import matplotlib.pyplot as plt \n",
    "import seaborn as sns \n",
    "sns.set()"
   ]
  },
  {
   "cell_type": "markdown",
   "metadata": {
    "colab_type": "text",
    "id": "WvMflodMjQKe"
   },
   "source": [
    "# Measures of location\n",
    "\n",
    "There are 3 measures of location: Mean, Median and Mode and they describe the central tendency of the data, i. e., through a number we can have an idea about where most of the data is located, they sumarize what are the typical elements in a dataset. All of them are what is called descriptive statistics which quantitatively describes or summarizes features from a dataset.\n",
    "\n",
    "❗️ I'll continue working on the same dataset used in the previous notebook: [Frequency distribution](1_1_frequency_distribution.ipynb/). Make sure you are familiar with its structure before moving forward. Here's a review:\n"
   ]
  },
  {
   "cell_type": "code",
   "execution_count": 2,
   "metadata": {},
   "outputs": [
    {
     "data": {
      "text/html": [
       "<div>\n",
       "<style scoped>\n",
       "    .dataframe tbody tr th:only-of-type {\n",
       "        vertical-align: middle;\n",
       "    }\n",
       "\n",
       "    .dataframe tbody tr th {\n",
       "        vertical-align: top;\n",
       "    }\n",
       "\n",
       "    .dataframe thead th {\n",
       "        text-align: right;\n",
       "    }\n",
       "</style>\n",
       "<table border=\"1\" class=\"dataframe\">\n",
       "  <thead>\n",
       "    <tr style=\"text-align: right;\">\n",
       "      <th></th>\n",
       "      <th>State</th>\n",
       "      <th>Gender</th>\n",
       "      <th>Age</th>\n",
       "      <th>Skin color</th>\n",
       "      <th>Years of study</th>\n",
       "      <th>Income</th>\n",
       "      <th>Height</th>\n",
       "    </tr>\n",
       "  </thead>\n",
       "  <tbody>\n",
       "    <tr>\n",
       "      <th>0</th>\n",
       "      <td>11</td>\n",
       "      <td>0</td>\n",
       "      <td>23</td>\n",
       "      <td>8</td>\n",
       "      <td>12</td>\n",
       "      <td>800</td>\n",
       "      <td>1.603808</td>\n",
       "    </tr>\n",
       "    <tr>\n",
       "      <th>1</th>\n",
       "      <td>11</td>\n",
       "      <td>1</td>\n",
       "      <td>23</td>\n",
       "      <td>2</td>\n",
       "      <td>12</td>\n",
       "      <td>1150</td>\n",
       "      <td>1.739790</td>\n",
       "    </tr>\n",
       "    <tr>\n",
       "      <th>2</th>\n",
       "      <td>11</td>\n",
       "      <td>1</td>\n",
       "      <td>35</td>\n",
       "      <td>8</td>\n",
       "      <td>15</td>\n",
       "      <td>880</td>\n",
       "      <td>1.760444</td>\n",
       "    </tr>\n",
       "    <tr>\n",
       "      <th>3</th>\n",
       "      <td>11</td>\n",
       "      <td>0</td>\n",
       "      <td>46</td>\n",
       "      <td>2</td>\n",
       "      <td>6</td>\n",
       "      <td>3500</td>\n",
       "      <td>1.783158</td>\n",
       "    </tr>\n",
       "    <tr>\n",
       "      <th>4</th>\n",
       "      <td>11</td>\n",
       "      <td>1</td>\n",
       "      <td>47</td>\n",
       "      <td>8</td>\n",
       "      <td>9</td>\n",
       "      <td>150</td>\n",
       "      <td>1.690631</td>\n",
       "    </tr>\n",
       "    <tr>\n",
       "      <th>...</th>\n",
       "      <td>...</td>\n",
       "      <td>...</td>\n",
       "      <td>...</td>\n",
       "      <td>...</td>\n",
       "      <td>...</td>\n",
       "      <td>...</td>\n",
       "      <td>...</td>\n",
       "    </tr>\n",
       "    <tr>\n",
       "      <th>76835</th>\n",
       "      <td>53</td>\n",
       "      <td>1</td>\n",
       "      <td>46</td>\n",
       "      <td>2</td>\n",
       "      <td>11</td>\n",
       "      <td>812</td>\n",
       "      <td>1.687030</td>\n",
       "    </tr>\n",
       "    <tr>\n",
       "      <th>76836</th>\n",
       "      <td>53</td>\n",
       "      <td>0</td>\n",
       "      <td>30</td>\n",
       "      <td>4</td>\n",
       "      <td>7</td>\n",
       "      <td>1500</td>\n",
       "      <td>1.792934</td>\n",
       "    </tr>\n",
       "    <tr>\n",
       "      <th>76837</th>\n",
       "      <td>53</td>\n",
       "      <td>0</td>\n",
       "      <td>32</td>\n",
       "      <td>8</td>\n",
       "      <td>12</td>\n",
       "      <td>1300</td>\n",
       "      <td>1.830587</td>\n",
       "    </tr>\n",
       "    <tr>\n",
       "      <th>76838</th>\n",
       "      <td>53</td>\n",
       "      <td>0</td>\n",
       "      <td>57</td>\n",
       "      <td>8</td>\n",
       "      <td>4</td>\n",
       "      <td>1500</td>\n",
       "      <td>1.726344</td>\n",
       "    </tr>\n",
       "    <tr>\n",
       "      <th>76839</th>\n",
       "      <td>53</td>\n",
       "      <td>0</td>\n",
       "      <td>38</td>\n",
       "      <td>8</td>\n",
       "      <td>4</td>\n",
       "      <td>900</td>\n",
       "      <td>1.658305</td>\n",
       "    </tr>\n",
       "  </tbody>\n",
       "</table>\n",
       "<p>76840 rows × 7 columns</p>\n",
       "</div>"
      ],
      "text/plain": [
       "       State  Gender  Age  Skin color  Years of study  Income    Height\n",
       "0         11       0   23           8              12     800  1.603808\n",
       "1         11       1   23           2              12    1150  1.739790\n",
       "2         11       1   35           8              15     880  1.760444\n",
       "3         11       0   46           2               6    3500  1.783158\n",
       "4         11       1   47           8               9     150  1.690631\n",
       "...      ...     ...  ...         ...             ...     ...       ...\n",
       "76835     53       1   46           2              11     812  1.687030\n",
       "76836     53       0   30           4               7    1500  1.792934\n",
       "76837     53       0   32           8              12    1300  1.830587\n",
       "76838     53       0   57           8               4    1500  1.726344\n",
       "76839     53       0   38           8               4     900  1.658305\n",
       "\n",
       "[76840 rows x 7 columns]"
      ]
     },
     "execution_count": 2,
     "metadata": {},
     "output_type": "execute_result"
    }
   ],
   "source": [
    "data = pd.read_csv(\"./data/national_household_sample_survey.csv\")\n",
    "gender_mapping = {0: \"Male\", 1: \"Female\"}\n",
    "skin_color_mapping = {\n",
    "    0: \"Indígena\",\n",
    "    2: \"White\",\n",
    "    4: \"Black\",\n",
    "    6: \"Yellow\",\n",
    "    8: \"Parda\",\n",
    "    9: \"N/A\",\n",
    "}\n",
    "data"
   ]
  },
  {
   "cell_type": "markdown",
   "metadata": {},
   "source": [
    "## Mean\n",
    "\n",
    "Mean is a measure of central tendency aka a measure of location. It's usually known as average, but in mathematical terms, you'd recognize it as mean, also because different types of means can be calculated. For the sake of simplicity, I'll approach the mean here with the same meaning as the average of a data collection.\n",
    "\n",
    "To illustrate the concept of mean I'll use the following dataset:\n",
    "\n",
    "`[9, 5, 8, 10, 7]`\n",
    "\n",
    "Imagine that this dataset represents the grades of all the students in a class of statistics. The grades can range from 0 to 10.\n",
    "\n",
    "How can we calculate the center of this data? What is the average grade for this class?\n",
    "\n",
    "The mean is calculated by the sum of all observations divided by the number of observations. \n",
    "\n",
    "#### Sample\n",
    "\n",
    "> In statistics, quality assurance, and survey methodology, sampling is the selection of a subset (a statistical sample) of individuals from within a statistical population to estimate characteristics of the whole population. Statisticians attempt to collect samples that are representative of the population in question. [Wikipedia](https://en.wikipedia.org/wiki/Sampling_(statistics))\n",
    "\n",
    "## $$ \\bar{x} = \\frac{1}{n}\\left (\\sum_{i=1}^n{x_i}\\right ) = \\frac{x_1+x_2+\\cdots +x_n}{n} $$\n",
    "\n",
    "where:\n",
    "- ${n}$ is the number os observations or size of the dataset\n",
    "- $ \\bar{x} $ is the mean of the dataset\n",
    "\n",
    "#### Population\n",
    "\n",
    "> In statistics, a population is a set of similar items or events which is of interest for some question or experiment. A statistical population can be a group of existing objects or a hypothetical and potentially infinite group of objects conceived as a generalization from experience. [Wikipedia](https://en.wikipedia.org/wiki/Statistical_population)\n",
    "\n",
    "## $$ \\mu = \\frac{1}{N}\\left (\\sum_{i=1}^N{x_i}\\right ) = \\frac{x_1+x_2+\\cdots +x_N}{N} $$\n",
    "\n",
    "where:\n",
    "- ${N}$ is the number of observations or size of the dataset\n",
    "- $ \\mu $ is the mean of the dataset\n",
    "\n",
    "#### Characteristics of the mean\n",
    "\n",
    "- It can be seen as a dataset's point of balance\n",
    "- It is senstive to outliers (data points that differ significantly from the rest of the observations), i. e., extreme values will pull the mean closer to them."
   ]
  },
  {
   "cell_type": "code",
   "execution_count": 3,
   "metadata": {},
   "outputs": [
    {
     "name": "stdout",
     "output_type": "stream",
     "text": [
      "The mean or the average grade for this class is: 7.8\n"
     ]
    }
   ],
   "source": [
    "dataset = [9,5,8,10,7]\n",
    "n = len(dataset)\n",
    "mean = sum(dataset) / n\n",
    "print(f\"The mean or the average grade for this class is: {mean}\")"
   ]
  },
  {
   "cell_type": "code",
   "execution_count": 4,
   "metadata": {},
   "outputs": [
    {
     "name": "stdout",
     "output_type": "stream",
     "text": [
      "The mean or the average grade for this class is: 7.8\n"
     ]
    }
   ],
   "source": [
    "mean_np = np.mean(dataset)\n",
    "print(f\"The mean or the average grade for this class is: {mean_np}\")"
   ]
  },
  {
   "cell_type": "code",
   "execution_count": 26,
   "metadata": {},
   "outputs": [
    {
     "name": "stdout",
     "output_type": "stream",
     "text": [
      "The mean income is 2000.3831988547631\n",
      "The mean age is 44.07142113482561\n",
      "The mean height is 1.6995 meters\n"
     ]
    }
   ],
   "source": [
    "mean_income = np.mean(data[\"Income\"])\n",
    "mean_age = np.mean(data[\"Age\"])\n",
    "mean_height = np.mean(data[\"Height\"])\n",
    "print(f\"The mean income is {mean_income}\")\n",
    "print(f\"The mean age is {mean_age}\")\n",
    "print(f\"The mean height is {round(mean_height, 4)} meters\")"
   ]
  },
  {
   "cell_type": "code",
   "execution_count": 23,
   "metadata": {},
   "outputs": [
    {
     "name": "stdout",
     "output_type": "stream",
     "text": [
      "The average income of a male if 2192.4415962441312\n",
      "The average income of a female if 1566.84739296312\n"
     ]
    },
    {
     "data": {
      "text/plain": [
       "Gender\n",
       "0    2192.441596\n",
       "1    1566.847393\n",
       "Name: Income, dtype: float64"
      ]
     },
     "execution_count": 23,
     "metadata": {},
     "output_type": "execute_result"
    }
   ],
   "source": [
    "income_grouped_by_gender = data.groupby([\"Gender\"])[\"Income\"].mean()\n",
    "print(f\"The average income of a male if {income_grouped_by_gender[0]}\")\n",
    "print(f\"The average income of a female if {income_grouped_by_gender[1]}\")\n",
    "income_grouped_by_gender\n"
   ]
  },
  {
   "cell_type": "markdown",
   "metadata": {},
   "source": [
    "As I said above the mean is sensitive to outliers. The random variable height has a mean of 1.69. Let's visualize the distribution and where the mean is located:"
   ]
  },
  {
   "cell_type": "code",
   "execution_count": 53,
   "metadata": {},
   "outputs": [
    {
     "data": {
      "image/png": "[encoded data removed]",
      "text/plain": [
       "<Figure size 720x360 with 1 Axes>"
      ]
     },
     "metadata": {
      "needs_background": "light"
     },
     "output_type": "display_data"
    }
   ],
   "source": [
    "mean_height = data[\"Height\"].mean()\n",
    "fix, ax = plt.subplots(1,1, figsize=(10, 5));\n",
    "ax.set_title(\"Histogram: Frequency distribution for the Height variable\", fontsize=16);\n",
    "ax.set_xlabel(\"Height\", fontsize=16);\n",
    "sns.histplot(data[\"Height\"], ax=ax, bins=15, kde=True);\n",
    "plt.axvline(x=mean_height, linewidth=3, color=\"r\")\n",
    "plt.legend(labels=[f\"Mean: {round(mean_height, 4)}\"]);"
   ]
  },
  {
   "cell_type": "markdown",
   "metadata": {},
   "source": [
    "Now I'll add extreme values to the dataset. Observe how the mean is pulled closer to the place where the outliers were introduced."
   ]
  },
  {
   "cell_type": "code",
   "execution_count": 92,
   "metadata": {},
   "outputs": [
    {
     "data": {
      "image/png": "[encoded data removed]",
      "text/plain": [
       "<Figure size 720x360 with 1 Axes>"
      ]
     },
     "metadata": {
      "needs_background": "light"
     },
     "output_type": "display_data"
    }
   ],
   "source": [
    "height_with_outlier = pd.concat([data[\"Height\"], pd.Series(1.6 + np.random.sample(4000)), pd.Series(4 + np.random.sample(2000))])\n",
    "mean_height_with_outlier = height_with_outlier.mean()\n",
    "fix, ax = plt.subplots(1,1, figsize=(10, 5));\n",
    "ax.set_title(\"Histogram: Frequency distribution for the Height variable (after outlier)\", fontsize=16);\n",
    "ax.set_xlabel(\"Height\", fontsize=16);\n",
    "plt.axvline(x=mean_height, linewidth=3, color=\"r\")\n",
    "plt.axvline(x=mean_height_with_outlier, linewidth=3, color=\"g\")\n",
    "sns.histplot(height_with_outlier, ax=ax, bins=20);\n",
    "plt.legend(labels=[f\"Previous mean before outlier: {round(mean_height, 4)}\"]);\n",
    "plt.legend(labels=[f\"Previous mean before outlier: {round(mean_height, 4)}\", f\"Mean after outlier: {round(mean_height_with_outlier, 4)}\"]);"
   ]
  },
  {
   "cell_type": "markdown",
   "metadata": {},
   "source": [
    "## Median\n",
    "\n",
    "The Median, similar to the mean, is also a measure of central tendency and its purpose is to understand where is the center of the data.\n",
    "To illustrate the concept of mean I'll use the following dataset:\n",
    "\n",
    "`[9, 5, 8, 10, 7]`\n",
    "\n",
    "Imagine that this dataset represents the grades of all the students in a class of statistics. The grades can range from 0 to 10.\n",
    "\n",
    "To calculate the median we need:\n",
    "\n",
    "1. Sort the dataset = `[5, 7, 8, 9, 10]`\n",
    "2. We now have to find the number that is exactly in the middle: 8 is the median\n",
    "\n",
    "But what if the dataset had an even number of data points? For example:\n",
    "\n",
    "`[5, 7, 8, 9, 9, 10]`\n",
    "\n",
    "What is the median in this case?\n",
    "\n",
    "1. Find the two numbers in the middle, or split the dataset in the middle. The two numbers we're looking for will be the ones that are on the edges of each half\n",
    "\n",
    "Half 1: `[5, 7, 8]` & Half 2: `[9, 9, 10]`\n",
    "\n",
    "The two numbers we're looking for in this case are 8 and 9\n",
    "\n",
    "2. Calculate the mean of the two numbers in the middle\n",
    "\n",
    "(8 + 9) / 2 = 8.5 is the median\n",
    "\n",
    "\n",
    "$$ \\large \n",
    "median\\left(x\\right)\n",
    "=\\begin{cases}\n",
    "  x_\\frac{n+1}{2}                                    & n\\text{ odd}\\\\\n",
    "  \\frac {1}{2}\\left(x_{\\frac{n}{2}} + x_{\\frac{n}{2} + 1}\\right) & n \\text{ even}\n",
    "\\end{cases}\n",
    " $$\n",
    "\n",
    "where:\n",
    "\n",
    "- $ n $ is the size of the dataset\n",
    "\n",
    "\n",
    "#### Characteristics of the median\n",
    "\n",
    "- The median value divides the dataset exactly in the middle,  i. e., 50% of the data lies on the left and 50% of the data lies on right.\n",
    "- It is not as affected by extreme values like the mean because it's the middle value of a dataset and not the average between all the values of a dataset.\n",
    "\n"
   ]
  },
  {
   "cell_type": "code",
   "execution_count": 87,
   "metadata": {},
   "outputs": [
    {
     "name": "stdout",
     "output_type": "stream",
     "text": [
      "The median for this class is: 8\n"
     ]
    }
   ],
   "source": [
    "dataset_odd = [9,5,8,10,7]\n",
    "dataset_odd.sort()\n",
    "# Here I don't add 1 to the length of the dataset because in programming we start counting indexes at 0\n",
    "idx_element_middle = int(len(dataset_odd)/2)\n",
    "element_middle = dataset_odd[idx_element_middle]\n",
    "print(f\"The median for this class is: {element_middle}\")"
   ]
  },
  {
   "cell_type": "code",
   "execution_count": 88,
   "metadata": {},
   "outputs": [
    {
     "name": "stdout",
     "output_type": "stream",
     "text": [
      "The median for this class is: 8.5\n"
     ]
    }
   ],
   "source": [
    "dataset_even = [9,5,8,10,7,9]\n",
    "dataset_even.sort()\n",
    "idx_element_middle_left_half = int((len(dataset_even) / 2) - 1)\n",
    "idx_element_middle_right_half = int(len(dataset_even) / 2)\n",
    "mean_of_center_elements = (dataset_even[idx_element_middle_left_half] + dataset_even[idx_element_middle_right_half]) / 2\n",
    "print(f\"The median for this class is: {mean_of_center_elements}\")"
   ]
  },
  {
   "cell_type": "code",
   "execution_count": 93,
   "metadata": {},
   "outputs": [
    {
     "name": "stdout",
     "output_type": "stream",
     "text": [
      "The median height for dataset before the outliers: 1.6993247325\n",
      "The median height for dataset after the outliers: 1.7059874000000002\n"
     ]
    }
   ],
   "source": [
    "print(f\"The median height for dataset before the outliers: {np.median(data['Height'])}\")\n",
    "print(f\"The median height for dataset after the outliers: {np.median(height_with_outlier)}\")"
   ]
  },
  {
   "cell_type": "markdown",
   "metadata": {},
   "source": [
    "As you can see the median of the dataset with outliers didn't change much from the mean of the dataset without outliers, but the mean changed more drastically.\n",
    "\n",
    "#### 🤔 Should I use the mean or the median to understand the central tendency of a dataset?\n",
    "\n",
    "Mean and Median are measures of center, i. e., they tell us where is the center of our data, but if they tell us the same thing what's the difference? Why do we have two different measures of center and which one should be used?\n",
    "\n",
    "As with everything in life, it depends 😅\n",
    "To understand the difference let's use the following dataset that represents the grades of a statistics student for a year. The grades range from 0 to 10:\n",
    "\n",
    "`[9, 10, 8, 9, 10, 9.8, 10, 9.4, 10, 9.7]`\n",
    "\n",
    "Let's say that by the end of the year we want to calculate a summary score that tells us in one number how the student performed the whole year. \n",
    "The mean can help us here."
   ]
  },
  {
   "cell_type": "code",
   "execution_count": 103,
   "metadata": {},
   "outputs": [
    {
     "name": "stdout",
     "output_type": "stream",
     "text": [
      "The mean grade for this student is: 9.5\n"
     ]
    }
   ],
   "source": [
    "grades = [9, 10, 8, 9, 10, 9.8, 10, 9.4, 10, 9.7]\n",
    "mean = np.mean(grades)\n",
    "print(f\"The mean grade for this student is: {round(mean, 1)}\")"
   ]
  },
  {
   "cell_type": "markdown",
   "metadata": {},
   "source": [
    "The mean seems to be very consistent with the performance of this student throughout the year, doesn't it? Let's calculate the median now."
   ]
  },
  {
   "cell_type": "code",
   "execution_count": 104,
   "metadata": {},
   "outputs": [
    {
     "name": "stdout",
     "output_type": "stream",
     "text": [
      "The median for this student's grades is: 9.8\n"
     ]
    }
   ],
   "source": [
    "median = np.median(grades)\n",
    "print(f\"The median for this student's grades is: {round(median, 1)}\")"
   ]
  },
  {
   "cell_type": "markdown",
   "metadata": {},
   "source": [
    "Also very consistent and close to the mean. So now, what's the point of having two different measures of center?\n",
    "\n",
    "Let's imagine this situation: this student took the final exam last week and unfortunately because of a personal stressful situation it was very difficult to concentrate and the grade for the final exam was `0`.\n",
    "\n",
    "![Alt Text](https://media.giphy.com/media/d2lcHJTG5Tscg/giphy.gif)\n",
    "\n",
    "Let's now add this final grade to our dataset and calculate the mean again:"
   ]
  },
  {
   "cell_type": "code",
   "execution_count": 105,
   "metadata": {},
   "outputs": [
    {
     "name": "stdout",
     "output_type": "stream",
     "text": [
      "The mean grade for this student is: 8.6\n"
     ]
    }
   ],
   "source": [
    "grades = [9, 10, 8, 9, 10, 9.8, 10, 9.4, 10, 9.7, 0]\n",
    "mean = np.mean(grades)\n",
    "print(f\"The mean grade for this student is: {round(mean, 1)}\")"
   ]
  },
  {
   "cell_type": "markdown",
   "metadata": {},
   "source": [
    "Is it fair to say that the yearly performance of this student is `8.6` when we look at all grades? Most of the grades were close to `10`.\n",
    "Let's take a look at the median:"
   ]
  },
  {
   "cell_type": "code",
   "execution_count": 106,
   "metadata": {},
   "outputs": [
    {
     "name": "stdout",
     "output_type": "stream",
     "text": [
      "The median for this student's grades is: 9.7\n"
     ]
    }
   ],
   "source": [
    "median = np.median(grades)\n",
    "print(f\"The median for this student's grades is: {round(median, 1)}\")"
   ]
  },
  {
   "cell_type": "markdown",
   "metadata": {},
   "source": [
    "The median is much close to the actual performance of this student when we consider all the grades. So, what's the point?\n",
    "\n",
    "### The mean is sensitive toward outliers\n",
    "An outlier is an observation or a value, in this case, is a grade, that lies an abnormal distance from other values. It means that even though this student performed very well, one outlier dragged the average grade down and I think it's not fair in this case. The same would happen for a student that hasn't performed the whole year, but for some reason get good results in the final exams. Should we consider this student a dedicated one?\n",
    "\n",
    "As said, the measure that you're gonna use depends on what you want to know about the data. Does it make sense to include outliers or not? Your goal will tell you.\n",
    "In this case, if we're measuring the performance of a student for the year I think the median represents better the whole data.\n",
    "Maybe the outlier was even a mistake of the teacher when sharing the grades.\n",
    "This is something that needs to be considered in every case.\n",
    "\n",
    "### When to consider outliers in your analysis?\n",
    "It depends on your goal and what conclusion you want to derive from the data. You can ask yourself if in a given situation considering outliers is important or not. Let's say that this school wants to run an experiment to find anomalies in the student's grades, for example, to find students that for some reason stopped performing consistently. Maybe considering the outliers would be beneficial to reach the conclusions in this case.\n",
    "\n",
    "To sum up, don't add or remove outliers (or use the mean or median) without thinking about what is your goal. Understand your data. Your data has different ways to tell you stories, it's up to you to understand which story is more important to you in a given situation.\n",
    "\n",
    "And oh, the teachers realized that something happened with the student and gave him a chance to do the test again. His score was `10`. All is good in Statsland!\n",
    "\n",
    "\n",
    "![Alt Text](https://media.giphy.com/media/cl27Mh8srUEog5GtUR/giphy.gif)\n"
   ]
  },
  {
   "cell_type": "markdown",
   "metadata": {},
   "source": [
    "## Mode\n",
    "To calculate the mode we need to know the number of occurrences of a datapoint in a dataset.\n",
    "\n",
    "`[9, 5, 8, 10, 7, 8]`\n",
    "\n",
    "Imagine that this dataset represents the grades of all the students in a class of statistics. The grades can range from 0 to 10.\n",
    "\n",
    "We want to know the numbers that occur most frequently in the dataset.\n",
    "\n",
    "| Number | Occurrences |\n",
    "|--------|-------------|\n",
    "| 9      | 1           |\n",
    "| 5      | 1           |\n",
    "| 7      | 1           |\n",
    "| 8      | 2           |\n",
    "| 10     | 1           |\n",
    "\n",
    "\n",
    "\n",
    "The number 8 is the most frequent in the dataset therefore it is the mode.\n",
    "What if we had more than one value with the same number of occurrences in a data set?\n",
    "\n",
    "`[9, 5, 8, 10, 7, 7, 8]`\n",
    "\n",
    "| Number | Occurrences |\n",
    "|--------|-------------|\n",
    "| 9      | 1           |\n",
    "| 5      | 1           |\n",
    "| 7      | 2           |\n",
    "| 8      | 2           |\n",
    "| 10     | 1           |\n",
    "\n",
    "We could either say that the dataset has no mode or that it is bi-modal, i.e., it has two modes: 7 and 8.\n",
    "\n",
    "If there are more than 2 modes usually we say that the dataset has no mode because we want to have a clear mode that summarizes our dataset. Of course, it depends on the purpose of each data analysis, but the purpose of the mode is to give a clear indicator of what is the most frequent value in a dataset."
   ]
  },
  {
   "cell_type": "code",
   "execution_count": 97,
   "metadata": {},
   "outputs": [
    {
     "name": "stdout",
     "output_type": "stream",
     "text": [
      "Counter({10: 2, 9: 1, 5: 1, 8: 1, 7: 1})\n",
      "The mode for the dataset is: 10\n"
     ]
    }
   ],
   "source": [
    "from collections import Counter\n",
    "dataset = [9,5,8,10,7,10]\n",
    "frequencies = Counter(dataset)\n",
    "print(frequencies)\n",
    "print(f\"The mode for the dataset is: {frequencies.most_common(1)[0][0]}\")"
   ]
  },
  {
   "cell_type": "code",
   "execution_count": 102,
   "metadata": {},
   "outputs": [
    {
     "name": "stdout",
     "output_type": "stream",
     "text": [
      "The mode for the age is: 40\n"
     ]
    }
   ],
   "source": [
    "from scipy.stats import mode\n",
    "print(f\"The mode for the age is: {mode(data['Age'], keepdims=True).mode[0]}\")"
   ]
  },
  {
   "cell_type": "markdown",
   "metadata": {},
   "source": [
    "## More resources\n",
    "\n",
    "I created a deck summarising what I cover in this Notebook.\n",
    "\n",
    "https://pitch.com/public/988bee38-e9c8-442c-9884-04f81b50a538\n",
    "\n",
    "<iframe src=\"https://pitch.com/embed/988bee38-e9c8-442c-9884-04f81b50a538\" allow=\"fullscreen\" allowfullscreen=\"\" width=\"560\" height=\"368\" style=\"border:0\"></iframe>"
   ]
  },
  {
   "cell_type": "markdown",
   "metadata": {},
   "source": []
  }
 ],
 "metadata": {
  "colab": {
   "name": "Curso_de_Estatística_Parte_1.ipynb",
   "provenance": [],
   "toc_visible": true,
   "version": "0.3.2"
  },
  "kernelspec": {
   "display_name": "Python 3.9.12 ('base')",
   "language": "python",
   "name": "python3"
  },
  "language_info": {
   "codemirror_mode": {
    "name": "ipython",
    "version": 3
   },
   "file_extension": ".py",
   "mimetype": "text/x-python",
   "name": "python",
   "nbconvert_exporter": "python",
   "pygments_lexer": "ipython3",
   "version": "3.9.12"
  },
  "vscode": {
   "interpreter": {
    "hash": "7d7799eccdb3ea8e451c2948250ed2a26e30808e21a34f392c0240d03d9f38c6"
   }
  }
 },
 "nbformat": 4,
 "nbformat_minor": 1
}
