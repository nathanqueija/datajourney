{
 "cells": [
  {
   "cell_type": "markdown",
   "metadata": {},
   "source": [
    "# Combinations\n",
    "\n",
    "In the permutations chapter, I already cover how it can help us to count the different arrangements of $ n $ items into $ k $ spots where order matters.\n",
    "\n",
    "I showed the example with the Simpsons family where I wanted to sit 5 ($ n $) members of the family into 3 ($ k $) available seats and the order of the arrangement mattered:\n",
    "\n",
    "# $$ P(n, k) =  \\frac{n!}{(n - k)!} $$\n",
    "\n",
    "# $$ P(5, 3) =  \\frac{5!}{(5 - 3)!} = 60 $$\n",
    "\n",
    "\n",
    "But what if I tell you that now the order doesn't matter? i. e., I don't care if Homer is seated on the first or last seat. I don't care in which order the family members are seated. I just care that all the seats available are occupied.\n",
    "\n",
    "This means that:\n",
    "\n",
    "Homer - Maggie - Bart - Lisa - Marge\n",
    "\n",
    "would be counted as the same as:\n",
    "\n",
    "Marge - Bart - Lisa - Homer - Maggie\n",
    "\n",
    "Let's think about arranging first Bart, Homer and Lisa. Here are all the possible ways where they can be arranged in 3 seats:\n",
    "\n",
    "Bart - Homer - Lisa\n",
    "\n",
    "Homer - Bart - Lisa\n",
    "\n",
    "Lisa - Bart - Homer\n",
    "\n",
    "Bart - Lisa - Homer\n",
    "\n",
    "Homer - Lisa - Bart\n",
    "\n",
    "Lisa - Homer - Bart\n",
    "\n",
    "There are 6 different ways of arranging the same 3 people in 3 seats, but now the order doesn't matter anymore. If the same 3 people are seated all the 6 different arrangements would be considered as 1 arrangement only. This means that what we need to do is divide the total number of ways we can arrange 5 people in 3 seats (60 permutations) by the number number of ways that we can arrange 3 people in 3 seats because it doesn't matter the order, it will count as just one option:\n",
    "\n",
    "\n",
    "$$ \\frac{\\text{Total number of permutations of 5 people in 3 seats}}{\\text{Number of ways to arrange 3 members}} =  \\frac{60}{6} = 10 $$ \n",
    "\n",
    "There are 10 possible **combinations** where 5 people can be seated on 3 seats where the order doesn't matter.\n",
    "\n",
    "That's the difference:\n",
    "\n",
    "- Permutations are all the possible arrangements where the order matters, i. e., ABC is different than CBA and so on...\n",
    "- Combinations are all the possible arrangements where order doesn't matter, i. e., ABC is counted as the same as CBA."
   ]
  },
  {
   "cell_type": "markdown",
   "metadata": {},
   "source": [
    "## Generalizing and the intuition behind the formula\n",
    "\n",
    "What we want to do is to divide the number of permutations (order matters) by the number of ways that $ k $ elements spots can be arranged into $ k $ spots (order doesn't matter).\n",
    "\n",
    "Here is the permutation formula:\n",
    "\n",
    "# $$ P(n, k) =  \\frac{n!}{(n - k)!} $$\n",
    "\n",
    "Here is how $ k $ elements can be arranged into $ k $ spots:\n",
    "\n",
    "# $$ P(k, k) =  \\frac{k!}{(k - k)!} = k! $$\n",
    "\n",
    "And now we want to divide all the permutations by the permutations that are considered the same so we get the combinations:\n",
    "\n",
    "# $$ \\frac{\\frac{n!}{(n - k)!}}{k!} $$\n",
    "\n",
    "Which yields:\n",
    "\n",
    "\n",
    "# $$ C(n, k) =  \\frac{n!}{k!(n - k)!} = {n \\choose k} $$\n",
    "\n",
    "Read as $ n $ choose $ k $\n",
    "\n",
    "\n",
    "\n",
    "\n",
    "\n"
   ]
  },
  {
   "cell_type": "code",
   "execution_count": 2,
   "metadata": {},
   "outputs": [
    {
     "data": {
      "text/plain": [
       "(60, 10)"
      ]
     },
     "execution_count": 2,
     "metadata": {},
     "output_type": "execute_result"
    }
   ],
   "source": [
    "import functools\n",
    "\n",
    "\n",
    "def factorial(n):\n",
    "    fact = 1\n",
    "\n",
    "    for i in range(1, n + 1):\n",
    "        fact = fact * i\n",
    "\n",
    "    return fact\n",
    "\n",
    "\n",
    "def permutation(n, k):\n",
    "\n",
    "    return int(factorial(n) / factorial(n - k))\n",
    "\n",
    "\n",
    "def combination(n, k):\n",
    "\n",
    "    return int(factorial(n) / (factorial(k) * factorial(n - k)))\n",
    "\n",
    "\n",
    "permutation(5, 3), combination(5, 3)\n"
   ]
  },
  {
   "cell_type": "code",
   "execution_count": 3,
   "metadata": {},
   "outputs": [
    {
     "name": "stdout",
     "output_type": "stream",
     "text": [
      "(1, 2, 3)\n",
      "(1, 2, 4)\n",
      "(1, 2, 5)\n",
      "(1, 3, 4)\n",
      "(1, 3, 5)\n",
      "(1, 4, 5)\n",
      "(2, 3, 4)\n",
      "(2, 3, 5)\n",
      "(2, 4, 5)\n",
      "(3, 4, 5)\n"
     ]
    }
   ],
   "source": [
    "from itertools import permutations, combinations\n",
    "\n",
    "comb = combinations([1, 2, 3, 4, 5], 3)\n",
    "\n",
    "\n",
    "# Print the obtained combinations\n",
    "for i in list(comb):\n",
    "    print (i)\n",
    "\n"
   ]
  },
  {
   "cell_type": "markdown",
   "metadata": {},
   "source": [
    "## How useful is that for probability?\n",
    "\n",
    "In Brazil, there is a lottery game where you win if you guess the 6 out of 60 tenths available.\n",
    "\n",
    "What is the probability that you're going to win?"
   ]
  },
  {
   "cell_type": "code",
   "execution_count": 2,
   "metadata": {},
   "outputs": [
    {
     "name": "stdout",
     "output_type": "stream",
     "text": [
      "50063860.0\n",
      "The proability of winning lottery in Brazil is 0.000001997448858%\n"
     ]
    }
   ],
   "source": [
    "from scipy.special import comb\n",
    "\n",
    "# Sample space: how many combinations of 60 tenths in 6 spots are possible?\n",
    "sample_space = comb(60, 6)\n",
    "print(sample_space)\n",
    "\n",
    "probability = 1 / sample_space\n",
    "\n",
    "print(f\"The proability of winning lottery in Brazil is {'{:0.15f}'.format(probability * 100)}%\");"
   ]
  }
 ],
 "metadata": {
  "kernelspec": {
   "display_name": "Python 3.9.12 ('base')",
   "language": "python",
   "name": "python3"
  },
  "language_info": {
   "codemirror_mode": {
    "name": "ipython",
    "version": 3
   },
   "file_extension": ".py",
   "mimetype": "text/x-python",
   "name": "python",
   "nbconvert_exporter": "python",
   "pygments_lexer": "ipython3",
   "version": "3.9.12"
  },
  "orig_nbformat": 4,
  "vscode": {
   "interpreter": {
    "hash": "7d7799eccdb3ea8e451c2948250ed2a26e30808e21a34f392c0240d03d9f38c6"
   }
  }
 },
 "nbformat": 4,
 "nbformat_minor": 2
}
