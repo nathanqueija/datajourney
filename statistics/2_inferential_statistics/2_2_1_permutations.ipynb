{
 "cells": [
  {
   "cell_type": "markdown",
   "metadata": {},
   "source": [
    "# Permutations\n",
    "\n",
    "As I showed in the previous example we need counting skills to be able to count how many items a sample space contains and also how many outcomes are favorable to an event so we can calculate its probability. Counting simple problems is easier, but as complexity starts to grow it's not feasible to do the counting by hand.\n",
    "\n",
    "The oxford dictionary defined permutation as:\n",
    "\n",
    "> Each of several possible ways in which a set or number of things can be ordered or arranged.\n",
    "\n",
    "Permutations in probability refer to sequences of outcomes where the order matters. It's the number of ways we can arrange things. How many possibilities are there that I can arrange a set of things? Here order matters. For example, 1-2-3-4 is a permutation of a four-digit PIN and the order matters. 1-2-3-4 is different from 1-4-2-3. When calculating probabilities, it’s frequently necessary to calculate the number of possible permutations to determine an event’s probability.\n",
    "\n",
    "For example, in how many ways can we combine the digits 0-9 to get a pin of 4 numbers where none of the numbers can't be repeated? We'll be able to calculate this by the end of this notebook, but first, let's visualize it and understand the intuition behind the formula.\n",
    "\n",
    "I'm sure you are familiar with the Simpsons and the picture of the family sitting on their couch:\n",
    "\n",
    "\n",
    "<p align=\"center\">\n",
    "  <img src=\"./imgs/simpsons.jpeg\" alt=\"Simpsons family\"/>\n",
    "</p>\n",
    "\n",
    "What if I ask you: how many possibilities are there to arrange each member of the family (5 people) in 5 different seats? (I know this couch has only three seats, but let's imagine it has 5 seats).\n",
    "\n",
    "Keep in mind that here the order matters. If Homer sits on the first seat he can't seat in the third seat at the same time. 4 seats will remain and 4 members of the family will now have to pick their seats. Also, Homer sitting on the first seat and Homer sitting on the last seat are counted as different possibilities because again, order matters. Let's visualize all the options we have:\n",
    "\n",
    "<p align=\"center\">\n",
    "  <img src=\"./imgs/simp_permutation.png\" alt=\"Simpsons permutation\"/>\n",
    "</p>\n",
    "\n"
   ]
  },
  {
   "cell_type": "markdown",
   "metadata": {},
   "source": [
    "The image above is just one possibility. What if Bart decided to take the second seat instead? What if Maggie decided to take the first seat instead?\n",
    "\n",
    "With permutations, we are interested in finding out ALL the different possibilities when $ n $ things could be arranged in $ k $ different spots.\n",
    "\n",
    "In this case, n is the number of people, $ n = 5 $ and k is the number of seats, $ k = 5 $.\n",
    "\n",
    "Mathematically speaking, first, there are 5 people:\n",
    "\n",
    "# $$ 5 \\times ? \\times ? \\times ? \\times ? $$\n",
    "\n",
    "Then 4 people are left to choose their seats: \n",
    "\n",
    "# $$ 5 \\times 4 \\times ? \\times ? \\times ? $$\n",
    "\n",
    "Then 3 people are left to choose their seats: \n",
    "\n",
    "# $$ 5 \\times 4 \\times 3 \\times ? \\times ? $$\n",
    "\n",
    "Then 2 people are left to choose their seats: \n",
    "\n",
    "# $$ 5 \\times 4 \\times 3 \\times 2 \\times ? $$\n",
    "\n",
    "Then 1 person is left to choose their seat: \n",
    "\n",
    "# $$ 5 \\times 4 \\times 3 \\times 2 \\times 1 = 120 $$\n",
    "\n",
    "There are 120 permutations, i. e., unique possibilities that we can arrange 5 members of the Simpsons family in 5 different seats.\n",
    "\n",
    "This is the same as $ 5! $\n",
    "But what if I ask you know how many possibilities are there to arrange 5 members of the Simpsons family into **3** seats?\n",
    "\n",
    "Let's start abstracting this:\n",
    "\n",
    "- $ n = 5 $\n",
    "- $ k = 3 $\n",
    "\n",
    "Now the number of possibilities is gonna be less than 120 because there are only 3 seats available if we look again at the calculation:\n",
    "\n",
    "# $$ 5 \\times 4 \\times 3 \\times 2 \\times 1 = 120 $$\n",
    "\n",
    "We'll need to stop the factorial multiplication at 3 because there are no more seats available. We can then divide the numerator by $ 2! $ to cancel out what we don't need:\n",
    "\n",
    "\n",
    "# $$ \\frac{5 \\times 4 \\times 3 \\times 2 \\times 1}{2 \\times 1} $$\n",
    "\n",
    "And we're left with:\n",
    "\n",
    "# $$ 5 \\times 4 \\times 3 = 60 $$\n",
    "\n",
    "\n",
    "If you look closer we can replace the number with their factorial form:\n",
    "\n",
    "# $$ \\frac{5!}{(5 - 3)!} $$\n",
    "\n",
    "But if you look closer we can replace the actual numbers with $ n $ and $ k $ t generalize this to any type of numbers we need to work with:\n",
    "\n",
    "\n",
    "# $$ \\frac{n!}{(n - k)!} $$\n",
    "\n",
    "And this is the formula to calculate the number of permutations (aka arrangements) of $ n $ elements taken $ k $ at a time. "
   ]
  },
  {
   "cell_type": "markdown",
   "metadata": {},
   "source": [
    "Coming back to the questions I asked in the beginning:\n",
    "\n",
    "> In how many ways can we combine the digits 0-9 to get a pin of 4 numbers where none of the numbers can't be repeated?\n",
    "\n",
    "- $ n = 10 $ because 10 digits can be arranged in\n",
    "- $ k = 4 $ elements taken at a time.\n",
    "\n",
    "\n",
    "# $$ P(n, k) =  \\frac{n!}{(n - k)!} $$\n",
    "\n",
    "\n",
    "# $$ P(10, 4) =  \\frac{10!}{(10 - 4)!} $$\n",
    "\n",
    "# $$ P(10, 4) =  \\frac{10!}{6!} $$\n",
    "\n",
    "$$ P(10, 4) =  \\frac{10 \\times 9 \\times 8 \\times 7 \\times 6 \\times 5 \\times 4 \\times 3 \\times 2 \\times 1}{6 \\times 5 \\times 4 \\times 3 \\times 2 \\times 1} $$\n",
    "\n",
    "$$ P(10, 4) =  10 \\times 9 \\times 8 \\times 7 $$\n",
    "\n",
    "$$ P(10, 4) =  10 \\times 9 \\times 8 \\times 7 = 5040 $$\n",
    "\n",
    "There are 5040 possibilities of PINs when the digits used are numbers from 0 - 9 and digits can't be repeated."
   ]
  },
  {
   "cell_type": "code",
   "execution_count": 15,
   "metadata": {},
   "outputs": [
    {
     "data": {
      "text/plain": [
       "5040"
      ]
     },
     "execution_count": 15,
     "metadata": {},
     "output_type": "execute_result"
    }
   ],
   "source": [
    "import functools\n",
    "\n",
    "def factorial(n):\n",
    "    fact = 1 \n",
    "\n",
    "    for i in range(1,n+1):\n",
    "        fact = fact * i\n",
    "    \n",
    "    return fact\n",
    "\n",
    "def permutation(n, k):\n",
    "    \n",
    "    return int(factorial(n) / factorial (n - k))\n",
    "\n",
    "permutation(10, 4)"
   ]
  },
  {
   "cell_type": "code",
   "execution_count": 5,
   "metadata": {},
   "outputs": [
    {
     "name": "stdout",
     "output_type": "stream",
     "text": [
      "5040\n"
     ]
    }
   ],
   "source": [
    "from itertools import permutations\n",
    "\n",
    "perm = permutations([0, 1, 2, 3, 4, 5, 6, 7, 8, 9], 4)\n",
    "print(len(list(perm)))\n",
    "\n",
    "# Print the obtained permutations\n",
    "# for i in list(perm):\n",
    "#     print (i)\n"
   ]
  },
  {
   "cell_type": "markdown",
   "metadata": {},
   "source": [
    "Now you wanna see how useful this is?\n",
    "\n",
    "What if I say now that the digits can be repeated, i. e., you could have a PIN as 1-1-1-1 or 1-2-3-2.\n",
    "\n",
    "Here order doesn't matter, right?\n",
    "\n",
    "So we have 4 possible spots for each digit:\n",
    "\n",
    "\n",
    "# __ __ __ __\n",
    "\n",
    "How many possibilities are there for the first digit? 10, because you can pick 10 different digits, so:\n",
    "\n",
    "# 10 __ __ __\n",
    "\n",
    "How many possibilities are there for the second digit? 10 too, because you can repeat, so:\n",
    "\n",
    "# 10 10 __ __\n",
    "\n",
    "Until you finish the last digit:\n",
    "\n",
    "# 10 10 10 10\n",
    "\n",
    "which is the same as\n",
    "\n",
    "# $$ 10 \\times 10 \\times 10 \\times 10 = 10^4 = 10000 $$\n",
    "\n",
    "Now let's say that we have the following event:\n",
    "\n",
    "# $$ A = \\text{Pin where the digits don't repeat} $$\n",
    "\n",
    "What is the probability of A happening?\n",
    "\n",
    "Well, we already know the sample space $ S $ = 10000, i. e., all the possible ways you can combine 10 numbers into four digits to build a pin and with the help of the permutation formula we already know how many arrangements are there were none of those digits repeat (order matters) so:\n",
    "\n",
    "# $$ P(A) = \\frac{5040}{10000} = 0.5040 $$\n",
    "\n",
    "Cool, right?"
   ]
  }
 ],
 "metadata": {
  "kernelspec": {
   "display_name": "Python 3.9.12 ('base')",
   "language": "python",
   "name": "python3"
  },
  "language_info": {
   "codemirror_mode": {
    "name": "ipython",
    "version": 3
   },
   "file_extension": ".py",
   "mimetype": "text/x-python",
   "name": "python",
   "nbconvert_exporter": "python",
   "pygments_lexer": "ipython3",
   "version": "3.9.12"
  },
  "orig_nbformat": 4,
  "vscode": {
   "interpreter": {
    "hash": "7d7799eccdb3ea8e451c2948250ed2a26e30808e21a34f392c0240d03d9f38c6"
   }
  }
 },
 "nbformat": 4,
 "nbformat_minor": 2
}
