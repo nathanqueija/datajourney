{
 "cells": [
  {
   "cell_type": "markdown",
   "metadata": {},
   "source": [
    "# Counting and probability\n",
    "\n",
    "Counting is essential to probability because we need to be able to count how many outcomes a specific sample space contains and also how many outcomes build up to a specific event so we can calculate its probability. \n",
    "\n",
    "Let's think about an example: \n",
    "\n",
    "> You love sneakers, but not all of them. You have 1 pair in color Red, Blue, Green and Yellow. And also for each color, you have 1 of each brand you like: Nike, Adidas and Puma. Let's say that you want to randomly pick a sneaker from your collection without looking at it. Every pair of sneakers has the same probability of being drawn. What's the probability that you're gonna pick a pair of color yellow from Adidas?\n",
    "\n",
    "To start we need to understand how many pairs of sneakers you have available in your collection, i. e., what is the sample space $ S $?\n",
    "\n",
    "It's known that you have one pair of each color x brand.\n",
    "\n",
    "| **Color**  | **Brand** | **Brand** | **Brand** |\n",
    "|:----------:|:---------:|:---------:|:---------:|\n",
    "| **Red**    | Nike      | Adidas    | Puma      |\n",
    "| **Blue**   | Nike      | Adidas    | Puma      |\n",
    "| **Green**  | Nike      | Adidas    | Puma      |\n",
    "| **Yellow** | Nike      | Adidas    | Puma      |\n",
    "\n",
    "For each color you have one pair of each brand, i. e. for each of the 4 colors there are 3 different pairs:\n",
    "\n",
    "# $$ S = 3 \\times 4 = 12 $$\n",
    "\n",
    "The event we are interested in is:\n",
    "\n",
    "$$A = \\text{A yellow pair from Adidas} $$\n",
    "\n",
    "The number of outcomes (the number of pairs) that favor event A is just 1:\n",
    "\n",
    "# $$ P(A) = \\frac{1}{12} = 0.0833 $$"
   ]
  },
  {
   "cell_type": "code",
   "execution_count": 1,
   "metadata": {},
   "outputs": [
    {
     "name": "stdout",
     "output_type": "stream",
     "text": [
      "There are 12 pairs of sneakers.\n",
      "Only 1 is Yellow from Adidas.\n",
      "The probability of picking a yellow pair from Adidas is: 0.08333333333333333\n"
     ]
    }
   ],
   "source": [
    "colors = [\"Red\", \"Blue\", \"Green\", \"Yellow\"]\n",
    "brands = [\"Nike\", \"Adidas\", \"Puma\"]\n",
    "sample_space = 0\n",
    "favourable_outcomes = 0\n",
    "\n",
    "# for each color\n",
    "for color in colors:\n",
    "    # for each brand\n",
    "    for brand in brands:\n",
    "        if color == \"Yellow\" and brand == \"Adidas\":\n",
    "            favourable_outcomes += 1\n",
    "        sample_space += 1\n",
    "\n",
    "probability = favourable_outcomes / sample_space\n",
    "\n",
    "print(f\"There are {sample_space} pairs of sneakers.\")\n",
    "print(f\"Only {favourable_outcomes} is Yellow from Adidas.\")\n",
    "print(f\"The probability of picking a yellow pair from Adidas is: {probability}\")"
   ]
  },
  {
   "cell_type": "markdown",
   "metadata": {},
   "source": [
    "## Using probability: the multiplicative law\n",
    "\n",
    "The event we're interested in is a yellow pair (A) AND from Adidas(B).\n",
    "\n",
    "# $$ P(A \\cap B) = P(A) P(B) $$\n",
    "\n",
    "There are 4 colors, 1 is yellow so:\n",
    "\n",
    "\n",
    "# $$ P(A) = \\frac{1}{4} = 0.25 $$\n",
    "\n",
    "There are 3 brands, 1 is Adidas so:\n",
    "\n",
    "# $$ P(B) = \\frac{1}{3} = 0.3333 $$\n",
    "\n",
    "The probability that a pair that was randomly drawn is yellow AND Adidas is:\n",
    "\n",
    "# $$ P(A \\cap B) = 0.25 \\times 0.3333 = 0.08333 $$\n",
    "\n"
   ]
  },
  {
   "cell_type": "markdown",
   "metadata": {},
   "source": [
    "## Probability tree\n",
    "\n",
    "One other way that helps with counting is by using a probability tree:\n",
    "\n",
    "<p align=\"center\">\n",
    "  <img src=\"./imgs/probability_tree.png\" alt=\"Probability tree\"/>\n",
    "</p>\n",
    "\n",
    "You can see that from the 12 possible outcomes from this tree (sample space) only 1 outcome is favorable to the event of a yellow pair from Adidas.\n",
    "\n",
    "You can see that on each branch I typed the probability of that specific event at the given tree level to happen. If you multiply the probabilities down the branches (in purple color) you'll get the same result as used with the formula above.\n",
    "\n",
    "Important to note that since the events are mutually exclusive and collectively exhaustive the sum of their probabilities should be 1."
   ]
  },
  {
   "cell_type": "code",
   "execution_count": 2,
   "metadata": {},
   "outputs": [
    {
     "data": {
      "text/plain": [
       "0.9999999996000001"
      ]
     },
     "execution_count": 2,
     "metadata": {},
     "output_type": "execute_result"
    }
   ],
   "source": [
    "0.0833333333 * 12"
   ]
  },
  {
   "cell_type": "markdown",
   "metadata": {},
   "source": [
    "For simple problems like this, it's easier to reason about the sample space and events, but if problems are more complex it becomes difficult to count by hand, we'll need some way to abstract this idea so the calculation is a bit easier and faster. On to the next notebook."
   ]
  },
  {
   "cell_type": "markdown",
   "metadata": {},
   "source": []
  }
 ],
 "metadata": {
  "kernelspec": {
   "display_name": "Python 3.9.12 ('base')",
   "language": "python",
   "name": "python3"
  },
  "language_info": {
   "codemirror_mode": {
    "name": "ipython",
    "version": 3
   },
   "file_extension": ".py",
   "mimetype": "text/x-python",
   "name": "python",
   "nbconvert_exporter": "python",
   "pygments_lexer": "ipython3",
   "version": "3.9.12"
  },
  "orig_nbformat": 4,
  "vscode": {
   "interpreter": {
    "hash": "7d7799eccdb3ea8e451c2948250ed2a26e30808e21a34f392c0240d03d9f38c6"
   }
  }
 },
 "nbformat": 4,
 "nbformat_minor": 2
}
