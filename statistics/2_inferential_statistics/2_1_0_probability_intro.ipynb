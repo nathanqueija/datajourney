{
 "cells": [
  {
   "cell_type": "markdown",
   "metadata": {},
   "source": [
    "Descriptive statistics describe data as I showed in the previous chapter. We can understand the data at hand by checking the measures and observing the plots. In descriptive statistics, we are just concluding the data it presents itself. Inferential statistics allows you to make predictions aka inferences from that data. With inferential statistics, you take data from samples and make generalizations about a population.\n",
    "\n",
    "# Probability\n",
    "\n",
    "The basis for statistical methods.\n",
    "\n",
    "Just like measures of location and spread it is a quantifiable measure of belief in a particular event to happen. It's a way to quantify and describe uncertainty. Probability is a language to describe uncertainty.\n",
    "\n",
    "## Experiment\n",
    "\n",
    "It is any procedure that can be infinitely repeated and has a well-defined set of possible outcomes that can happen, this set is known as the sample space. For example, tossing a coin.\n",
    "\n",
    "## Sample space $ S $\n",
    "\n",
    "Is a set that contains all the possible outcomes of an experiment. For example $S = \\{Heads, Tails\\} $.\n",
    "\n",
    "## Event\n",
    "\n",
    "An event is a subset of the sample space $ S $. An event is a collection of elementary outcomes from the sample space $ S $ of an experiment, which is a subset of  $ S $.\n",
    "\n",
    "From all the possible outcomes of an experiment, an event is all the occurrences from an experiment that matches a specific interest. It's a slice of the sample space.\n",
    "\n",
    "### Examples\n",
    "\n",
    "- **Experiment**: Die roll\n",
    "\n",
    "**Sample space**: $ S = \\{1,2,3,4,5,6 \\} $\n",
    "\n",
    "**Event**: $A = \\text{an even score} = \\{2, 4, 6 \\} $ \n",
    "\n",
    "- **Experiment**: Die roll\n",
    "\n",
    "**Sample space**: $ S = \\{1,2,3,4,5,6 \\} $\n",
    "\n",
    "**Event**: $A = \\text{score greater than 4} = \\{5, 6 \\} $ \n",
    "\n",
    "- **Experiment**: Coin toss\n",
    "\n",
    "**Sample space**: $ S = \\{Heads, Tails \\} $\n",
    "\n",
    "**Event**: $A = \\text{Heads} = \\{Heads\\} $ \n",
    "\n",
    "- **Experiment**: Number of goals in a soccer match\n",
    "\n",
    "**Sample space**: $ S = \\{0, 1, 2, 3, 4,..., n \\} $\n",
    "\n",
    "**Event**: $A = \\text{Less than 3 goals} = \\{0, 1, 2\\} $ \n",
    "\n",
    "\n"
   ]
  },
  {
   "cell_type": "markdown",
   "metadata": {},
   "source": [
    "## $ [0, 1] $ : the probability interval\n",
    "\n",
    "A convention to define probability: the unit interval.\n",
    "\n",
    "- An unlikely event has a probability of 0.\n",
    "\n",
    "- A certain event has a probability of 1.\n",
    "\n",
    "- If the probability of event A is greater than the probability of event B happening, then A is more likely to happen than B.\n",
    "\n",
    "- Multiply it by 100 and you express probability as a percentage."
   ]
  },
  {
   "cell_type": "markdown",
   "metadata": {},
   "source": [
    "## The classical approach to probability\n",
    "\n",
    "- Each outcome (member from the sample space) is equally likely to occur. \n",
    "\n",
    "- No bias towards a specific event.\n",
    "\n",
    "For example, if the sample space has N members, the probability of any outcome in the sample space happening is 1 divided by N.\n",
    "\n",
    "Let's say we're interested in knowing the probability  of event A happening:\n",
    "\n",
    "# $$ P(A) = \\frac{n}{N} $$\n",
    "\n",
    "where:\n",
    "\n",
    "- $ n $ is the number of outcomes that favor event A. It's a subset of the sample space.\n",
    "- $ N $ is the number of all outcomes in a given sample space."
   ]
  },
  {
   "cell_type": "code",
   "execution_count": 4,
   "metadata": {},
   "outputs": [
    {
     "name": "stdout",
     "output_type": "stream",
     "text": [
      "The probability of getting an even score when rolling a die is: 0.5 or 50.0%\n"
     ]
    }
   ],
   "source": [
    "# Experiment: die roll\n",
    "sample_space = [1, 2, 3, 4, 5, 6]\n",
    "# Event A: an even score\n",
    "event = [2, 4, 6]\n",
    "probability = len(event) / len(sample_space)\n",
    "\n",
    "print(f\"The probability of getting an even score when rolling a die is: {probability} or {probability * 100}%\")\n"
   ]
  },
  {
   "cell_type": "code",
   "execution_count": 5,
   "metadata": {},
   "outputs": [
    {
     "name": "stdout",
     "output_type": "stream",
     "text": [
      "The probability of getting Heads when tossing a coin is: 0.5 or 50.0%\n"
     ]
    }
   ],
   "source": [
    "# Experiment: coin toss\n",
    "sample_space = [\"Heads\", \"Tails\"]\n",
    "# Event A: Heads\n",
    "event = [\"Heads\"]\n",
    "probability = len(event) / len(sample_space)\n",
    "\n",
    "print(\n",
    "    f\"The probability of getting Heads when tossing a coin is: {probability} or {probability * 100}%\"\n",
    ")\n"
   ]
  },
  {
   "cell_type": "code",
   "execution_count": 6,
   "metadata": {},
   "outputs": [
    {
     "name": "stdout",
     "output_type": "stream",
     "text": [
      "The probability of getting a score > 4 when rolling a die is: 0.3333 or 33.33%\n"
     ]
    }
   ],
   "source": [
    "# Experiment: die roll\n",
    "sample_space = [1, 2, 3, 4, 5, 6]\n",
    "# Event A: score greater than 4\n",
    "event = [5, 6]\n",
    "probability = len(event) / len(sample_space)\n",
    "\n",
    "print(\n",
    "    f\"The probability of getting a score > 4 when rolling a die is: {round(probability, 4)} or {round(probability, 4) * 100}%\"\n",
    ")\n"
   ]
  },
  {
   "cell_type": "markdown",
   "metadata": {},
   "source": [
    "## Relative frequency\n",
    "\n",
    "The classical approach to probability is also known as the frequentist approach. If you have an event, let's say event $ B $, there are only two options:\n",
    "\n",
    "- event B does or does not occur.\n",
    "\n",
    "You then repeat the experiment $ F $ times, for example, let's think about a coin toss experiment. Event $B$ is when you get heads. You repeat the experiment of tossing a coin $ F $ times. From those trials, in how many of them do you get event $ B $ = heads?\n",
    "\n",
    "\n",
    "# $$ P(B) = \\frac{f}{F} $$\n",
    "\n",
    "💡 Randomness is a fact. We can't control it. We can repeat the same experiment and get different results under similar circumstances. That's why probability comes in handy. It's a way to describe that uncertainty.\n",
    "\n"
   ]
  },
  {
   "cell_type": "markdown",
   "metadata": {},
   "source": [
    "## Probability is a language to describe uncertainty\n",
    "\n",
    "Inferential statistics draws conclusions about data and that data is subject to randomness. This randomness might happen because of different reasons, e.g., how sampling happened, observational errors, etc.\n",
    "\n",
    "If you have an experiment, for example, throwing a die. You can't know for certain what number will show up. Even if you have the same conditions on every throw. We can't control the random effect of this experiment and frequently these random factors are unknown to us. These unknown and uncontrollable variables that we can't measure will have a cumulative effect on the result. That's where probability comes handy. It's a language to describe that uncertainty. "
   ]
  },
  {
   "cell_type": "markdown",
   "metadata": {},
   "source": [
    "## Axioms of probability\n",
    "\n",
    "An axiom is a statement or proposition which is regarded as being established, accepted, or self-evidently true.\n",
    "\n",
    "- For any event $ A$, the probability of its occurrence is greater or equal to 0. 💡 Also remember that it must be less than 1.\n",
    "\n",
    "# $$ P(A) \\geq 0 $$\n",
    "\n",
    "- The probability of the sample space $ S $ is 1.\n",
    "\n",
    "# $$ P(S) = 1 $$\n",
    "\n",
    "💡 If the sample space exhausts all possible outcomes for a given experiment one of them must happen. The members of the sample space are collectively exhaustive, i. e., all of their probabilities sum up to 1.\n",
    "\n",
    "- If events are mutually exclusive, the probability of their union is the sum of the respective probabilities. Mutually exclusive means when two events can't happen at the same time.\n",
    "\n",
    "\n",
    "# $$ P(\\cup^n_{i=1} A_i) =  \\sum^n_{i=1} P(A_i) $$\n",
    "\n",
    "\n"
   ]
  },
  {
   "cell_type": "markdown",
   "metadata": {},
   "source": [
    "## Venn diagram\n",
    "\n",
    "Expresses the sample space geometrically. For example, You throw two dice and sum the number on the upward faces.\n",
    "\n",
    "- $ A$  = the sum is even\n",
    "\n",
    "- $B$ = the sum is less than 6\n",
    "\n",
    "- $C$ = the sum is greater than 2, but less than 11\n",
    "\n",
    "$$ S = \\{ 2, 3, 4, 5, 6, 7, 8, 9, 10, 11, 12 \\} $$\n",
    "\n",
    "$$ A \\cap B = \\{ 2, 4 \\} $$\n",
    "\n",
    "$$ A \\cap C = \\{ 6, 8, 10 \\} $$\n",
    "\n",
    "$$ A \\cap B \\cap C = \\emptyset $$\n",
    "\n",
    "$$ (A \\cup B \\cup C)^c = \\{ 11 \\} $$\n",
    "\n",
    "$$ A \\cup B \\cup C = \\{ 2, 3, 4, 5, 6, 7, 8, 9, 10, 12 \\} $$\n",
    "\n",
    "$$ A|C =  \\{ 6, 8, 10 \\} $$\n",
    "\n",
    "<p align=\"center\">\n",
    "  <img src=\"./imgs/venn_diagram.png\" alt=\"Venn Diagram\"/>\n",
    "</p>\n",
    "\n"
   ]
  },
  {
   "cell_type": "markdown",
   "metadata": {},
   "source": [
    "## The additive law\n",
    "\n",
    "What's the probability that at least one of two events occurs? What's the probability of A or B occurring, or that both occur?\n",
    "\n",
    "# $$ P(A \\cup B) = P(A) + P(B) - P(A \\cap B) $$\n",
    "\n",
    "- 💡 We subtract the intersection of $A$ and $B$ because we don't want to count that slice twice since we're summing $A$ and $B$.\n",
    "\n",
    "- 💡 The probability of an event not occurring is its complement, i. e., the probability of the sample space minus the probability of the event happening:\n",
    "\n",
    "# $$ P(A)^c = 1 - P(A) $$\n"
   ]
  },
  {
   "cell_type": "markdown",
   "metadata": {},
   "source": [
    "#### Mutually exclusive events\n",
    "\n",
    "Event there is no way that both events happen at the same time.\n",
    "\n",
    "# $$ P(A \\cup B) = P(A) + P(B) - 0 $$\n",
    "\n",
    "\n",
    "<p align=\"center\">\n",
    "  <img src=\"./imgs/mutually_exclusive.png\" alt=\"Mutually exclusive events\"/>\n",
    "</p>\n",
    "\n",
    "#### Collectively exhaustive events\n",
    "\n",
    "It's a set of all the possible independent events in a sample space for a certain experiment.\n",
    "\n",
    "For example the experiment of rolling a die. We might have the events:\n",
    "\n",
    "### $$ A = \\text{an even score} $$\n",
    "### $$ B = \\text{an odd score} $$\n",
    "\n",
    "Events A and B are collectively exhaustive because it doesn't matter what is the output of the experiment one of these events must happen.\n"
   ]
  },
  {
   "cell_type": "markdown",
   "metadata": {},
   "source": [
    "## The multiplicative law\n",
    "\n",
    "What's the probability that two events occur? The events do not influence one another.\n",
    "\n",
    "# $$ P(A \\cap B) = P(A) P(B) $$\n"
   ]
  },
  {
   "cell_type": "markdown",
   "metadata": {},
   "source": [
    "## 1. Probability problem\n",
    "\n",
    "Two fair dice are rolled and the number on the upward faces are summed. What is the probability of the sum is:\n",
    "\n",
    "- $ A $: odd\n",
    "- $ B $: less than 7\n",
    "- $ C $: exactly 10\n",
    "- $ D $: exactly 3\n",
    "\n",
    "<p align=\"center\">\n",
    "  <img src=\"./imgs/prob_problem_1.png\" alt=\"Sample space\"/>\n",
    "</p>\n",
    "\n",
    "# $$ S = 36 $$\n",
    "\n",
    "# $$ P(A) = \\frac{18}{36} = \\frac{1}{2} = 0.5 $$\n",
    "\n",
    "# $$ P(B) = \\frac{15}{36} = 0.4166 $$\n",
    "\n",
    "# $$ P(C) = \\frac{2}{36} = \\frac{1}{18} = 0.0555 $$\n",
    "\n",
    "# $$ P(D) = \\frac{2}{36} = \\frac{1}{18} = 0.0555 $$\n"
   ]
  },
  {
   "cell_type": "markdown",
   "metadata": {},
   "source": [
    "## 2. Probability problem\n",
    "\n",
    "Let's imagine a game: 4 fair coins and one fair die are thrown together. You win if the number of tails obtained is greater than or equal to the score obtained from the die roll. What is the probability that you will win?\n",
    "\n",
    "#### Sample space\n",
    "\n",
    "- Possible outcomes from a coin toss: Heads or tails = 2\n",
    "- Number of coins: 4\n",
    "- Possible outcomes of a die roll: 6\n",
    "\n",
    "# $$ S = 2 \\times 2 \\times 2 \\times 2 \\times 6 = 2^4 \\times 6 = 96 $$\n",
    "\n",
    "<p align=\"center\">\n",
    "  <img src=\"./imgs/prob_problem_2.png\" alt=\"Sample space\"/>\n",
    "</p>\n",
    "\n",
    "# $$ S = 96 $$\n",
    "\n",
    "# $$ A = 30 $$\n",
    "\n",
    "# $$ P(A) = \\frac{30}{96} = \\frac{5}{16} = 0.3125 $$\n",
    "\n"
   ]
  },
  {
   "cell_type": "markdown",
   "metadata": {},
   "source": [
    "## 3. Probability problem\n",
    "\n",
    "- The probability that I'll wake up late tomorrow is 0.4 = $ A $ \n",
    "\n",
    "- The probability that my phone will run out of battery during the night is 0.05 = $ B $\n",
    "\n",
    "- The probability that I'll wake up late and my phone will run out of battery is $ 0.01$ \n",
    "\n",
    "What is the probability that I'll wake up late or that my phone will run out of battery?\n",
    "\n",
    "# $$ P(A \\cup B) = P(A) + P(B) - P(A \\cap B) $$\n",
    "\n",
    "\n",
    "# $$ P(A \\cup B) = 0.4 + 0.05 - 0.01 = 0.44 $$\n"
   ]
  },
  {
   "cell_type": "markdown",
   "metadata": {},
   "source": [
    "## 4. Probability problem\n",
    "\n",
    "You roll two dice. What's the probability of:\n",
    "\n",
    "- Getting 2 sixes?\n",
    "\n",
    "# $$ P(A \\cap B) = P(A)P(B) $$\n",
    "\n",
    "# $$ P(A \\cap B) = \\frac{1}{6} \\times \\frac{1}{6} = \\frac{1}{36} =  0.0277 $$\n",
    "\n",
    "**Events are independent!**\n",
    "\n",
    "\n",
    "- Getting at least one six?\n",
    "\n",
    "# $$ P(A \\cup B) = P(A) + P(B) - P(A \\cap B) $$\n",
    "\n",
    "# $$ P(A \\cup B) = \\frac{1}{6} + \\frac{1}{6} - \\frac{1}{36}  = 0.3056 $$\n"
   ]
  },
  {
   "cell_type": "markdown",
   "metadata": {},
   "source": [
    "## More resources\n",
    "\n",
    "I created a deck summarising what I cover in this Notebook:\n",
    "\n",
    "https://pitch.com/public/86519e11-42a1-4f52-bd1e-037a93b88001\n",
    "\n",
    "<iframe src=\"https://pitch.com/embed/86519e11-42a1-4f52-bd1e-037a93b88001\" allow=\"fullscreen\" allowfullscreen=\"\" width=\"560\" height=\"368\" style=\"border:0\"></iframe>"
   ]
  },
  {
   "cell_type": "markdown",
   "metadata": {},
   "source": []
  }
 ],
 "metadata": {
  "kernelspec": {
   "display_name": "Python 3.9.12 ('base')",
   "language": "python",
   "name": "python3"
  },
  "language_info": {
   "codemirror_mode": {
    "name": "ipython",
    "version": 3
   },
   "file_extension": ".py",
   "mimetype": "text/x-python",
   "name": "python",
   "nbconvert_exporter": "python",
   "pygments_lexer": "ipython3",
   "version": "3.9.12"
  },
  "orig_nbformat": 4,
  "vscode": {
   "interpreter": {
    "hash": "7d7799eccdb3ea8e451c2948250ed2a26e30808e21a34f392c0240d03d9f38c6"
   }
  }
 },
 "nbformat": 4,
 "nbformat_minor": 2
}
